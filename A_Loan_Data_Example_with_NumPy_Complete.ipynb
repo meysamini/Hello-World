{
  "cells": [
    {
      "cell_type": "markdown",
      "metadata": {
        "id": "view-in-github",
        "colab_type": "text"
      },
      "source": [
        "<a href=\"https://colab.research.google.com/github/meysamini/Hello-World/blob/master/A_Loan_Data_Example_with_NumPy_Complete.ipynb\" target=\"_parent\"><img src=\"https://colab.research.google.com/assets/colab-badge.svg\" alt=\"Open In Colab\"/></a>"
      ]
    },
    {
      "cell_type": "markdown",
      "metadata": {
        "id": "DDDrpyyc_rhO"
      },
      "source": [
        "## Importing the Packages"
      ]
    },
    {
      "cell_type": "code",
      "execution_count": 15,
      "metadata": {
        "id": "SYi-Z8w0_rhP"
      },
      "outputs": [],
      "source": [
        "import numpy as np"
      ]
    },
    {
      "cell_type": "code",
      "execution_count": 16,
      "metadata": {
        "id": "hC0OCIq9_rhQ"
      },
      "outputs": [],
      "source": [
        "np.set_printoptions(suppress = True, linewidth = 100, precision = 2)"
      ]
    },
    {
      "cell_type": "markdown",
      "metadata": {
        "id": "OWe3KzRp_rhQ"
      },
      "source": [
        "## Importing the Data"
      ]
    },
    {
      "cell_type": "code",
      "execution_count": 17,
      "metadata": {
        "id": "MLS4Amb4_rhQ"
      },
      "outputs": [],
      "source": [
        "#raw_data_np = np.genfromtxt(\"loan-data.csv\", delimiter = ';', skip_header = 1, autostrip = True)\n",
        "#raw_data_np\n",
        "############ moshkel unicode"
      ]
    },
    {
      "cell_type": "code",
      "source": [
        "############# ba in ravesh hal shod\n",
        "with open(\"loan-data.csv\", \"r\", encoding=\"ISO-8859-1\") as file:  # Replace \"ISO-8859-1\" with the actual encoding\n",
        "    raw_data_np = np.genfromtxt(file, delimiter=';', skip_header=1, autostrip=True)\n",
        "raw_data_np\n",
        "#print(raw_data_np)"
      ],
      "metadata": {
        "colab": {
          "base_uri": "https://localhost:8080/"
        },
        "id": "vCL_pNYODyju",
        "outputId": "d688b77f-d947-4b6e-ca9c-f502a97fad9e"
      },
      "execution_count": 18,
      "outputs": [
        {
          "output_type": "execute_result",
          "data": {
            "text/plain": [
              "array([[48010226.  ,         nan,    35000.  , ...,         nan,         nan,     9452.96],\n",
              "       [57693261.  ,         nan,    30000.  , ...,         nan,         nan,     4679.7 ],\n",
              "       [59432726.  ,         nan,    15000.  , ...,         nan,         nan,     1969.83],\n",
              "       ...,\n",
              "       [50415990.  ,         nan,    10000.  , ...,         nan,         nan,     2185.64],\n",
              "       [46154151.  ,         nan,         nan, ...,         nan,         nan,     3199.4 ],\n",
              "       [66055249.  ,         nan,    10000.  , ...,         nan,         nan,      301.9 ]])"
            ]
          },
          "metadata": {},
          "execution_count": 18
        }
      ]
    },
    {
      "cell_type": "markdown",
      "metadata": {
        "id": "fl9vWoHo_rhR"
      },
      "source": [
        "## Checking for Incomplete Data"
      ]
    },
    {
      "cell_type": "code",
      "execution_count": 19,
      "metadata": {
        "scrolled": true,
        "colab": {
          "base_uri": "https://localhost:8080/"
        },
        "id": "HTBVz37Q_rhR",
        "outputId": "1c5eaddf-5778-44e6-8c6e-a276e02b331d"
      },
      "outputs": [
        {
          "output_type": "execute_result",
          "data": {
            "text/plain": [
              "88005"
            ]
          },
          "metadata": {},
          "execution_count": 19
        }
      ],
      "source": [
        "np.isnan(raw_data_np).sum()"
      ]
    },
    {
      "cell_type": "code",
      "execution_count": 20,
      "metadata": {
        "colab": {
          "base_uri": "https://localhost:8080/"
        },
        "id": "QIKQ18Ic_rhR",
        "outputId": "e92be6c9-7969-4ae9-9efa-c64aaf826e05"
      },
      "outputs": [
        {
          "output_type": "stream",
          "name": "stderr",
          "text": [
            "<ipython-input-20-eeff3b704aa1>:2: RuntimeWarning: Mean of empty slice\n",
            "  temporary_mean = np.nanmean(raw_data_np, axis = 0)\n"
          ]
        }
      ],
      "source": [
        "temporary_fill = np.nanmax(raw_data_np) + 1\n",
        "temporary_mean = np.nanmean(raw_data_np, axis = 0)"
      ]
    },
    {
      "cell_type": "code",
      "execution_count": 21,
      "metadata": {
        "colab": {
          "base_uri": "https://localhost:8080/"
        },
        "id": "IbGjhj86_rhS",
        "outputId": "eb8a0f50-06b4-4abf-e9e9-5855a975facb"
      },
      "outputs": [
        {
          "output_type": "execute_result",
          "data": {
            "text/plain": [
              "array([54015809.19,         nan,    15273.46,         nan,    15311.04,         nan,       16.62,\n",
              "            440.92,         nan,         nan,         nan,         nan,         nan,     3143.85])"
            ]
          },
          "metadata": {},
          "execution_count": 21
        }
      ],
      "source": [
        "temporary_mean"
      ]
    },
    {
      "cell_type": "code",
      "execution_count": 22,
      "metadata": {
        "scrolled": true,
        "colab": {
          "base_uri": "https://localhost:8080/"
        },
        "id": "7mleZ9KS_rhS",
        "outputId": "6a3b0775-7fed-4ded-ab68-d4b440c4e673"
      },
      "outputs": [
        {
          "output_type": "stream",
          "name": "stderr",
          "text": [
            "<ipython-input-22-f918bd68decf>:1: RuntimeWarning: All-NaN slice encountered\n",
            "  temporary_stats = np.array([np.nanmin(raw_data_np, axis = 0),\n",
            "<ipython-input-22-f918bd68decf>:3: RuntimeWarning: All-NaN slice encountered\n",
            "  np.nanmax(raw_data_np, axis = 0)])\n"
          ]
        }
      ],
      "source": [
        "temporary_stats = np.array([np.nanmin(raw_data_np, axis = 0),\n",
        "                           temporary_mean,\n",
        "                           np.nanmax(raw_data_np, axis = 0)])"
      ]
    },
    {
      "cell_type": "code",
      "execution_count": 23,
      "metadata": {
        "colab": {
          "base_uri": "https://localhost:8080/"
        },
        "id": "NX0J6Zg3_rhS",
        "outputId": "0f85b7af-893e-469c-caea-742f82d9ee7a"
      },
      "outputs": [
        {
          "output_type": "execute_result",
          "data": {
            "text/plain": [
              "array([[  373332.  ,         nan,     1000.  ,         nan,     1000.  ,         nan,        6.  ,\n",
              "              31.42,         nan,         nan,         nan,         nan,         nan,        0.  ],\n",
              "       [54015809.19,         nan,    15273.46,         nan,    15311.04,         nan,       16.62,\n",
              "             440.92,         nan,         nan,         nan,         nan,         nan,     3143.85],\n",
              "       [68616519.  ,         nan,    35000.  ,         nan,    35000.  ,         nan,       28.99,\n",
              "            1372.97,         nan,         nan,         nan,         nan,         nan,    41913.62]])"
            ]
          },
          "metadata": {},
          "execution_count": 23
        }
      ],
      "source": [
        "temporary_stats"
      ]
    },
    {
      "cell_type": "markdown",
      "metadata": {
        "id": "YOQlu3gl_rhS"
      },
      "source": [
        "## Splitting the Dataset"
      ]
    },
    {
      "cell_type": "markdown",
      "metadata": {
        "id": "KhbLQZdJ_rhS"
      },
      "source": [
        "### Splitting the Columns"
      ]
    },
    {
      "cell_type": "code",
      "execution_count": 24,
      "metadata": {
        "colab": {
          "base_uri": "https://localhost:8080/"
        },
        "id": "lUH3jRgu_rhT",
        "outputId": "3faf3f5b-24be-4282-92df-0730656639ed"
      },
      "outputs": [
        {
          "output_type": "execute_result",
          "data": {
            "text/plain": [
              "array([ 1,  3,  5,  8,  9, 10, 11, 12])"
            ]
          },
          "metadata": {},
          "execution_count": 24
        }
      ],
      "source": [
        "columns_strings = np.argwhere(np.isnan(temporary_mean)).squeeze()\n",
        "columns_strings\n",
        "#print(columns_strings)"
      ]
    },
    {
      "cell_type": "code",
      "execution_count": 25,
      "metadata": {
        "colab": {
          "base_uri": "https://localhost:8080/"
        },
        "id": "nRY2ZElR_rhT",
        "outputId": "bd34a4e3-887c-41af-a60e-bd23c6af5aa0"
      },
      "outputs": [
        {
          "output_type": "execute_result",
          "data": {
            "text/plain": [
              "array([ 0,  2,  4,  6,  7, 13])"
            ]
          },
          "metadata": {},
          "execution_count": 25
        }
      ],
      "source": [
        "columns_numeric = np.argwhere(np.isnan(temporary_mean) == False).squeeze()\n",
        "columns_numeric"
      ]
    },
    {
      "cell_type": "markdown",
      "metadata": {
        "id": "gkIGSVvW_rhT"
      },
      "source": [
        "### Re-importing the Dataset"
      ]
    },
    {
      "cell_type": "code",
      "execution_count": null,
      "metadata": {
        "scrolled": true,
        "id": "UvsexBC5_rhT"
      },
      "outputs": [],
      "source": [
        "########### Error dar ejraye dttype\n",
        "loan_data_strings = np.genfromtxt(\"loan-data.csv\",\n",
        "                                  delimiter = ';',\n",
        "                                  skip_header = 1,\n",
        "                                  autostrip = True,\n",
        "                                  usecols = columns_strings,\n",
        "                                  dtype = np.str)\n",
        "loan_data_strings"
      ]
    },
    {
      "cell_type": "code",
      "source": [
        "# Open the file with the correct encoding\n",
        "with open(\"loan-data.csv\", \"r\", encoding=\"ISO-8859-1\") as file:  # Replace \"ISO-8859-1\" with the correct encoding if needed\n",
        "    loan_data_strings = np.genfromtxt(file,\n",
        "                                      delimiter=';',\n",
        "                                      skip_header=1,\n",
        "                                      autostrip=True,\n",
        "                                      usecols=columns_strings,\n",
        "                                      dtype=str)  # Use str for string data\n",
        "\n",
        "loan_data_strings"
      ],
      "metadata": {
        "colab": {
          "base_uri": "https://localhost:8080/"
        },
        "id": "D6zIfoqZHdyf",
        "outputId": "7fcb24be-a4a3-4150-f7d0-7fd372d46cf4"
      },
      "execution_count": 27,
      "outputs": [
        {
          "output_type": "execute_result",
          "data": {
            "text/plain": [
              "array([['May-15', 'Current', '36 months', ..., 'Verified',\n",
              "        'https://www.lendingclub.com/browse/loanDetail.action?loan_id=48010226', 'CA'],\n",
              "       ['', 'Current', '36 months', ..., 'Source Verified',\n",
              "        'https://www.lendingclub.com/browse/loanDetail.action?loan_id=57693261', 'NY'],\n",
              "       ['Sep-15', 'Current', '36 months', ..., 'Verified',\n",
              "        'https://www.lendingclub.com/browse/loanDetail.action?loan_id=59432726', 'PA'],\n",
              "       ...,\n",
              "       ['Jun-15', 'Current', '36 months', ..., 'Source Verified',\n",
              "        'https://www.lendingclub.com/browse/loanDetail.action?loan_id=50415990', 'CA'],\n",
              "       ['Apr-15', 'Current', '36 months', ..., 'Source Verified',\n",
              "        'https://www.lendingclub.com/browse/loanDetail.action?loan_id=46154151', 'OH'],\n",
              "       ['Dec-15', 'Current', '36 months', ..., '',\n",
              "        'https://www.lendingclub.com/browse/loanDetail.action?loan_id=66055249', 'IL']],\n",
              "      dtype='<U69')"
            ]
          },
          "metadata": {},
          "execution_count": 27
        }
      ]
    },
    {
      "cell_type": "code",
      "execution_count": null,
      "metadata": {
        "id": "p6TArs_7_rhU"
      },
      "outputs": [],
      "source": [
        "########### Error dar ejraye dttype\n",
        "loan_data_numeric = np.genfromtxt(\"loan-data.csv\",\n",
        "                                  delimiter = ';',\n",
        "                                  autostrip = True,\n",
        "                                  skip_header = 1,\n",
        "                                  usecols = columns_numeric,\n",
        "                                  filling_values = temporary_fill)\n",
        "loan_data_numeric"
      ]
    },
    {
      "cell_type": "code",
      "source": [
        "# Open the file with the correct encoding\n",
        "with open(\"loan-data.csv\", \"r\", encoding=\"ISO-8859-1\") as file:  # Replace \"ISO-8859-1\" with the correct encoding if needed\n",
        "    loan_data_numeric = np.genfromtxt(file,\n",
        "                                      delimiter=';',\n",
        "                                      skip_header=1,\n",
        "                                      autostrip=True,\n",
        "                                      usecols=columns_numeric,\n",
        "                                      filling_values = temporary_fill)  # Use str for string data\n",
        "\n",
        "loan_data_numeric"
      ],
      "metadata": {
        "colab": {
          "base_uri": "https://localhost:8080/"
        },
        "id": "p1igSqIhILxK",
        "outputId": "bc158a7a-6da4-4b16-f91b-c25ebb54a9f7"
      },
      "execution_count": 29,
      "outputs": [
        {
          "output_type": "execute_result",
          "data": {
            "text/plain": [
              "array([[48010226.  ,    35000.  ,    35000.  ,       13.33,     1184.86,     9452.96],\n",
              "       [57693261.  ,    30000.  ,    30000.  , 68616520.  ,      938.57,     4679.7 ],\n",
              "       [59432726.  ,    15000.  ,    15000.  , 68616520.  ,      494.86,     1969.83],\n",
              "       ...,\n",
              "       [50415990.  ,    10000.  ,    10000.  , 68616520.  , 68616520.  ,     2185.64],\n",
              "       [46154151.  , 68616520.  ,    10000.  ,       16.55,      354.3 ,     3199.4 ],\n",
              "       [66055249.  ,    10000.  ,    10000.  , 68616520.  ,      309.97,      301.9 ]])"
            ]
          },
          "metadata": {},
          "execution_count": 29
        }
      ]
    },
    {
      "cell_type": "markdown",
      "metadata": {
        "id": "QLPmz1Gb_rhU"
      },
      "source": [
        "### The Names of the Columns"
      ]
    },
    {
      "cell_type": "code",
      "execution_count": 30,
      "metadata": {
        "colab": {
          "base_uri": "https://localhost:8080/"
        },
        "id": "OIi3QU4s_rhU",
        "outputId": "0195d5fb-8fae-4ef0-e8a0-25601b022f2d"
      },
      "outputs": [
        {
          "output_type": "execute_result",
          "data": {
            "text/plain": [
              "array(['id', 'issue_d', 'loan_amnt', 'loan_status', 'funded_amnt', 'term', 'int_rate',\n",
              "       'installment', 'grade', 'sub_grade', 'verification_status', 'url', 'addr_state',\n",
              "       'total_pymnt'], dtype='<U19')"
            ]
          },
          "metadata": {},
          "execution_count": 30
        }
      ],
      "source": [
        "with open(\"loan-data.csv\", \"r\", encoding=\"ISO-8859-1\") as file:  # Replace \"ISO-8859-1\" with the correct encoding if needed\n",
        "    header_full = np.genfromtxt(file,\n",
        "                            delimiter = ';',\n",
        "                            autostrip = True,\n",
        "                            skip_footer = raw_data_np.shape[0],\n",
        "                            dtype = str)\n",
        "header_full"
      ]
    },
    {
      "cell_type": "code",
      "execution_count": 31,
      "metadata": {
        "id": "XfKvM0ns_rhU"
      },
      "outputs": [],
      "source": [
        "header_strings, header_numeric = header_full[columns_strings], header_full[columns_numeric]"
      ]
    },
    {
      "cell_type": "code",
      "execution_count": 32,
      "metadata": {
        "colab": {
          "base_uri": "https://localhost:8080/"
        },
        "id": "tTuNgMWv_rhU",
        "outputId": "001f4485-7ff2-47c2-fd2e-451970a3557f"
      },
      "outputs": [
        {
          "output_type": "execute_result",
          "data": {
            "text/plain": [
              "array(['issue_d', 'loan_status', 'term', 'grade', 'sub_grade', 'verification_status', 'url',\n",
              "       'addr_state'], dtype='<U19')"
            ]
          },
          "metadata": {},
          "execution_count": 32
        }
      ],
      "source": [
        "header_strings"
      ]
    },
    {
      "cell_type": "code",
      "execution_count": 33,
      "metadata": {
        "colab": {
          "base_uri": "https://localhost:8080/"
        },
        "id": "PJTxiofP_rhU",
        "outputId": "d57e2575-68f1-4392-8718-160afa29cec2"
      },
      "outputs": [
        {
          "output_type": "execute_result",
          "data": {
            "text/plain": [
              "array(['id', 'loan_amnt', 'funded_amnt', 'int_rate', 'installment', 'total_pymnt'], dtype='<U19')"
            ]
          },
          "metadata": {},
          "execution_count": 33
        }
      ],
      "source": [
        "header_numeric"
      ]
    },
    {
      "cell_type": "markdown",
      "metadata": {
        "id": "WUMCDFt4_rhU"
      },
      "source": [
        "## Creating Checkpoints:"
      ]
    },
    {
      "cell_type": "code",
      "execution_count": 34,
      "metadata": {
        "id": "sXKpBCLn_rhV"
      },
      "outputs": [],
      "source": [
        "def checkpoint(file_name, checkpoint_header, checkpoint_data):\n",
        "    np.savez(file_name, header = checkpoint_header, data = checkpoint_data)\n",
        "    checkpoint_variable = np.load(file_name + \".npz\")\n",
        "    return(checkpoint_variable)"
      ]
    },
    {
      "cell_type": "code",
      "execution_count": 35,
      "metadata": {
        "id": "INWbJOm-_rhV"
      },
      "outputs": [],
      "source": [
        "checkpoint_test = checkpoint(\"checkpoint-test\", header_strings, loan_data_strings)"
      ]
    },
    {
      "cell_type": "code",
      "execution_count": 36,
      "metadata": {
        "colab": {
          "base_uri": "https://localhost:8080/"
        },
        "id": "voNt3DWT_rhV",
        "outputId": "7c5f6347-5795-4f54-ee23-931ed9771ecc"
      },
      "outputs": [
        {
          "output_type": "execute_result",
          "data": {
            "text/plain": [
              "array([['May-15', 'Current', '36 months', ..., 'Verified',\n",
              "        'https://www.lendingclub.com/browse/loanDetail.action?loan_id=48010226', 'CA'],\n",
              "       ['', 'Current', '36 months', ..., 'Source Verified',\n",
              "        'https://www.lendingclub.com/browse/loanDetail.action?loan_id=57693261', 'NY'],\n",
              "       ['Sep-15', 'Current', '36 months', ..., 'Verified',\n",
              "        'https://www.lendingclub.com/browse/loanDetail.action?loan_id=59432726', 'PA'],\n",
              "       ...,\n",
              "       ['Jun-15', 'Current', '36 months', ..., 'Source Verified',\n",
              "        'https://www.lendingclub.com/browse/loanDetail.action?loan_id=50415990', 'CA'],\n",
              "       ['Apr-15', 'Current', '36 months', ..., 'Source Verified',\n",
              "        'https://www.lendingclub.com/browse/loanDetail.action?loan_id=46154151', 'OH'],\n",
              "       ['Dec-15', 'Current', '36 months', ..., '',\n",
              "        'https://www.lendingclub.com/browse/loanDetail.action?loan_id=66055249', 'IL']],\n",
              "      dtype='<U69')"
            ]
          },
          "metadata": {},
          "execution_count": 36
        }
      ],
      "source": [
        "checkpoint_test['data']"
      ]
    },
    {
      "cell_type": "code",
      "execution_count": 37,
      "metadata": {
        "colab": {
          "base_uri": "https://localhost:8080/"
        },
        "id": "KpMF6Ae__rhV",
        "outputId": "b98f895c-f460-4ccd-e041-bc42d565e32f"
      },
      "outputs": [
        {
          "output_type": "execute_result",
          "data": {
            "text/plain": [
              "True"
            ]
          },
          "metadata": {},
          "execution_count": 37
        }
      ],
      "source": [
        "np.array_equal(checkpoint_test['data'], loan_data_strings)"
      ]
    },
    {
      "cell_type": "markdown",
      "metadata": {
        "id": "5QPN_upU_rhV"
      },
      "source": [
        "## Manipulating String Columns"
      ]
    },
    {
      "cell_type": "code",
      "execution_count": 38,
      "metadata": {
        "colab": {
          "base_uri": "https://localhost:8080/"
        },
        "id": "sxabfAKc_rhV",
        "outputId": "78efb786-ed1b-4d2b-e409-4ffca66de59b"
      },
      "outputs": [
        {
          "output_type": "execute_result",
          "data": {
            "text/plain": [
              "array(['issue_d', 'loan_status', 'term', 'grade', 'sub_grade', 'verification_status', 'url',\n",
              "       'addr_state'], dtype='<U19')"
            ]
          },
          "metadata": {},
          "execution_count": 38
        }
      ],
      "source": [
        "header_strings"
      ]
    },
    {
      "cell_type": "code",
      "execution_count": 39,
      "metadata": {
        "id": "XZBwq2XJ_rhV"
      },
      "outputs": [],
      "source": [
        "header_strings[0] = \"issue_date\""
      ]
    },
    {
      "cell_type": "code",
      "execution_count": 40,
      "metadata": {
        "colab": {
          "base_uri": "https://localhost:8080/"
        },
        "id": "RakzF-fA_rhV",
        "outputId": "f2fb5890-23e7-41a8-898b-20fe06166ff5"
      },
      "outputs": [
        {
          "output_type": "execute_result",
          "data": {
            "text/plain": [
              "array([['May-15', 'Current', '36 months', ..., 'Verified',\n",
              "        'https://www.lendingclub.com/browse/loanDetail.action?loan_id=48010226', 'CA'],\n",
              "       ['', 'Current', '36 months', ..., 'Source Verified',\n",
              "        'https://www.lendingclub.com/browse/loanDetail.action?loan_id=57693261', 'NY'],\n",
              "       ['Sep-15', 'Current', '36 months', ..., 'Verified',\n",
              "        'https://www.lendingclub.com/browse/loanDetail.action?loan_id=59432726', 'PA'],\n",
              "       ...,\n",
              "       ['Jun-15', 'Current', '36 months', ..., 'Source Verified',\n",
              "        'https://www.lendingclub.com/browse/loanDetail.action?loan_id=50415990', 'CA'],\n",
              "       ['Apr-15', 'Current', '36 months', ..., 'Source Verified',\n",
              "        'https://www.lendingclub.com/browse/loanDetail.action?loan_id=46154151', 'OH'],\n",
              "       ['Dec-15', 'Current', '36 months', ..., '',\n",
              "        'https://www.lendingclub.com/browse/loanDetail.action?loan_id=66055249', 'IL']],\n",
              "      dtype='<U69')"
            ]
          },
          "metadata": {},
          "execution_count": 40
        }
      ],
      "source": [
        "loan_data_strings"
      ]
    },
    {
      "cell_type": "markdown",
      "metadata": {
        "id": "8DlYwDNi_rhV"
      },
      "source": [
        "### Issue Date"
      ]
    },
    {
      "cell_type": "code",
      "execution_count": 41,
      "metadata": {
        "colab": {
          "base_uri": "https://localhost:8080/"
        },
        "id": "gQ8WzFgD_rhW",
        "outputId": "bcb1e5b4-8510-4373-b754-dd03a591e44a"
      },
      "outputs": [
        {
          "output_type": "execute_result",
          "data": {
            "text/plain": [
              "array(['', 'Apr-15', 'Aug-15', 'Dec-15', 'Feb-15', 'Jan-15', 'Jul-15', 'Jun-15', 'Mar-15',\n",
              "       'May-15', 'Nov-15', 'Oct-15', 'Sep-15'], dtype='<U69')"
            ]
          },
          "metadata": {},
          "execution_count": 41
        }
      ],
      "source": [
        "np.unique(loan_data_strings[:,0])"
      ]
    },
    {
      "cell_type": "code",
      "execution_count": 42,
      "metadata": {
        "id": "18FbCsBQ_rhW"
      },
      "outputs": [],
      "source": [
        "loan_data_strings[:,0] = np.chararray.strip(loan_data_strings[:,0], \"-15\")"
      ]
    },
    {
      "cell_type": "code",
      "execution_count": 43,
      "metadata": {
        "scrolled": true,
        "colab": {
          "base_uri": "https://localhost:8080/"
        },
        "id": "lrXJlSP3_rhW",
        "outputId": "71217dcc-58de-4bc4-b1e1-0559076cdea5"
      },
      "outputs": [
        {
          "output_type": "execute_result",
          "data": {
            "text/plain": [
              "array(['', 'Apr', 'Aug', 'Dec', 'Feb', 'Jan', 'Jul', 'Jun', 'Mar', 'May', 'Nov', 'Oct', 'Sep'],\n",
              "      dtype='<U69')"
            ]
          },
          "metadata": {},
          "execution_count": 43
        }
      ],
      "source": [
        "np.unique(loan_data_strings[:,0])"
      ]
    },
    {
      "cell_type": "code",
      "execution_count": 44,
      "metadata": {
        "id": "biXnJKzl_rhW"
      },
      "outputs": [],
      "source": [
        "months = np.array(['', 'Jan', 'Feb', 'Mar', 'Apr', 'May', 'Jun', 'Jul', 'Aug', 'Sep', 'Oct', 'Nov', 'Dec'])"
      ]
    },
    {
      "cell_type": "code",
      "execution_count": 45,
      "metadata": {
        "id": "jfKRzTYt_rhW"
      },
      "outputs": [],
      "source": [
        "for i in range(13):\n",
        "        loan_data_strings[:,0] = np.where(loan_data_strings[:,0] == months[i],\n",
        "                                          i,\n",
        "                                          loan_data_strings[:,0])"
      ]
    },
    {
      "cell_type": "code",
      "execution_count": 46,
      "metadata": {
        "colab": {
          "base_uri": "https://localhost:8080/"
        },
        "id": "PiJkNRvL_rhW",
        "outputId": "2a821274-4896-432e-9ddc-f17c78ad1046"
      },
      "outputs": [
        {
          "output_type": "execute_result",
          "data": {
            "text/plain": [
              "array(['0', '1', '10', '11', '12', '2', '3', '4', '5', '6', '7', '8', '9'], dtype='<U69')"
            ]
          },
          "metadata": {},
          "execution_count": 46
        }
      ],
      "source": [
        "np.unique(loan_data_strings[:,0])"
      ]
    },
    {
      "cell_type": "markdown",
      "metadata": {
        "id": "RrLfBZsP_rhZ"
      },
      "source": [
        "### Loan Status"
      ]
    },
    {
      "cell_type": "code",
      "execution_count": 47,
      "metadata": {
        "colab": {
          "base_uri": "https://localhost:8080/"
        },
        "id": "KnpugfLA_rhZ",
        "outputId": "b41f3078-8283-4c3d-94bd-209c41070f4d"
      },
      "outputs": [
        {
          "output_type": "execute_result",
          "data": {
            "text/plain": [
              "array(['issue_date', 'loan_status', 'term', 'grade', 'sub_grade', 'verification_status', 'url',\n",
              "       'addr_state'], dtype='<U19')"
            ]
          },
          "metadata": {},
          "execution_count": 47
        }
      ],
      "source": [
        "header_strings"
      ]
    },
    {
      "cell_type": "code",
      "execution_count": 48,
      "metadata": {
        "colab": {
          "base_uri": "https://localhost:8080/"
        },
        "id": "IMdZuZ3s_rhZ",
        "outputId": "577d8289-66e0-47a3-cefe-5bb253821736"
      },
      "outputs": [
        {
          "output_type": "execute_result",
          "data": {
            "text/plain": [
              "array(['', 'Charged Off', 'Current', 'Default', 'Fully Paid', 'In Grace Period', 'Issued',\n",
              "       'Late (16-30 days)', 'Late (31-120 days)'], dtype='<U69')"
            ]
          },
          "metadata": {},
          "execution_count": 48
        }
      ],
      "source": [
        "np.unique(loan_data_strings[:,1])"
      ]
    },
    {
      "cell_type": "code",
      "execution_count": 49,
      "metadata": {
        "colab": {
          "base_uri": "https://localhost:8080/"
        },
        "id": "Mk3d02_0_rha",
        "outputId": "51a20009-d7d7-431d-f7dd-535e85cc0d42"
      },
      "outputs": [
        {
          "output_type": "execute_result",
          "data": {
            "text/plain": [
              "9"
            ]
          },
          "metadata": {},
          "execution_count": 49
        }
      ],
      "source": [
        "np.unique(loan_data_strings[:,1]).size"
      ]
    },
    {
      "cell_type": "code",
      "execution_count": 50,
      "metadata": {
        "id": "-ymOsWog_rha"
      },
      "outputs": [],
      "source": [
        "status_bad = np.array(['','Charged Off','Default','Late (31-120 days)'])"
      ]
    },
    {
      "cell_type": "code",
      "execution_count": 51,
      "metadata": {
        "scrolled": false,
        "id": "pL6ya42y_rha"
      },
      "outputs": [],
      "source": [
        "loan_data_strings[:,1] = np.where(np.isin(loan_data_strings[:,1], status_bad),0,1)"
      ]
    },
    {
      "cell_type": "code",
      "execution_count": 52,
      "metadata": {
        "colab": {
          "base_uri": "https://localhost:8080/"
        },
        "id": "MiR7dYS6_rha",
        "outputId": "2df7f567-cf87-459b-f639-ac4073ab9332"
      },
      "outputs": [
        {
          "output_type": "execute_result",
          "data": {
            "text/plain": [
              "array(['0', '1'], dtype='<U69')"
            ]
          },
          "metadata": {},
          "execution_count": 52
        }
      ],
      "source": [
        "np.unique(loan_data_strings[:,1])"
      ]
    },
    {
      "cell_type": "markdown",
      "metadata": {
        "id": "H_Jxtsai_rha"
      },
      "source": [
        "### Term"
      ]
    },
    {
      "cell_type": "code",
      "execution_count": 53,
      "metadata": {
        "colab": {
          "base_uri": "https://localhost:8080/"
        },
        "id": "8-Xqbv6M_rha",
        "outputId": "6495084a-7907-45b7-99f9-7738c3cd53a4"
      },
      "outputs": [
        {
          "output_type": "execute_result",
          "data": {
            "text/plain": [
              "array(['issue_date', 'loan_status', 'term', 'grade', 'sub_grade', 'verification_status', 'url',\n",
              "       'addr_state'], dtype='<U19')"
            ]
          },
          "metadata": {},
          "execution_count": 53
        }
      ],
      "source": [
        "header_strings"
      ]
    },
    {
      "cell_type": "code",
      "execution_count": 54,
      "metadata": {
        "colab": {
          "base_uri": "https://localhost:8080/"
        },
        "id": "m8lnOGS9_rha",
        "outputId": "fcddc757-a4c8-430b-e8ef-55a1a71674f3"
      },
      "outputs": [
        {
          "output_type": "execute_result",
          "data": {
            "text/plain": [
              "array(['', '36 months', '60 months'], dtype='<U69')"
            ]
          },
          "metadata": {},
          "execution_count": 54
        }
      ],
      "source": [
        "np.unique(loan_data_strings[:,2])"
      ]
    },
    {
      "cell_type": "code",
      "execution_count": 55,
      "metadata": {
        "colab": {
          "base_uri": "https://localhost:8080/"
        },
        "id": "TeKrZIVM_rhb",
        "outputId": "dd8046e0-2362-4551-f5de-554ba5ec6594"
      },
      "outputs": [
        {
          "output_type": "execute_result",
          "data": {
            "text/plain": [
              "array(['36', '36', '36', ..., '36', '36', '36'], dtype='<U69')"
            ]
          },
          "metadata": {},
          "execution_count": 55
        }
      ],
      "source": [
        "loan_data_strings[:,2] = np.chararray.strip(loan_data_strings[:,2], \" months\")\n",
        "loan_data_strings[:,2]"
      ]
    },
    {
      "cell_type": "code",
      "execution_count": 56,
      "metadata": {
        "id": "phLGvmhl_rhb"
      },
      "outputs": [],
      "source": [
        "header_strings[2] = \"term_months\""
      ]
    },
    {
      "cell_type": "code",
      "execution_count": 57,
      "metadata": {
        "colab": {
          "base_uri": "https://localhost:8080/"
        },
        "id": "OZKfoxTN_rhb",
        "outputId": "93b41e70-05c9-4c34-d462-210848560635"
      },
      "outputs": [
        {
          "output_type": "execute_result",
          "data": {
            "text/plain": [
              "array(['36', '36', '36', ..., '36', '36', '36'], dtype='<U69')"
            ]
          },
          "metadata": {},
          "execution_count": 57
        }
      ],
      "source": [
        "loan_data_strings[:,2] = np.where(loan_data_strings[:,2] == '',\n",
        "                                  '60',\n",
        "                                  loan_data_strings[:,2])\n",
        "loan_data_strings[:,2]"
      ]
    },
    {
      "cell_type": "code",
      "execution_count": 58,
      "metadata": {
        "colab": {
          "base_uri": "https://localhost:8080/"
        },
        "id": "H2rUChOL_rhb",
        "outputId": "62a6d374-dda9-409c-ef09-4eb6a8f3425a"
      },
      "outputs": [
        {
          "output_type": "execute_result",
          "data": {
            "text/plain": [
              "array(['36', '60'], dtype='<U69')"
            ]
          },
          "metadata": {},
          "execution_count": 58
        }
      ],
      "source": [
        "np.unique(loan_data_strings[:,2])"
      ]
    },
    {
      "cell_type": "markdown",
      "metadata": {
        "id": "yvSO1oEd_rhb"
      },
      "source": [
        "### Grade and Subgrade"
      ]
    },
    {
      "cell_type": "code",
      "execution_count": 62,
      "metadata": {
        "colab": {
          "base_uri": "https://localhost:8080/"
        },
        "id": "AAKxv4Kk_rhb",
        "outputId": "c16c3484-cbb2-4bcd-ffa5-2339e3750071"
      },
      "outputs": [
        {
          "output_type": "execute_result",
          "data": {
            "text/plain": [
              "array(['issue_date', 'loan_status', 'term_months', 'grade', 'sub_grade', 'verification_status',\n",
              "       'url', 'addr_state'], dtype='<U19')"
            ]
          },
          "metadata": {},
          "execution_count": 62
        }
      ],
      "source": [
        "header_strings"
      ]
    },
    {
      "cell_type": "code",
      "execution_count": 63,
      "metadata": {
        "colab": {
          "base_uri": "https://localhost:8080/"
        },
        "id": "6z5WwtUQ_rhb",
        "outputId": "0a7538a1-fdd1-4ad2-a9a4-3714869e0e7c"
      },
      "outputs": [
        {
          "output_type": "execute_result",
          "data": {
            "text/plain": [
              "array(['', 'A', 'B', 'C', 'D', 'E', 'F', 'G'], dtype='<U69')"
            ]
          },
          "metadata": {},
          "execution_count": 63
        }
      ],
      "source": [
        "np.unique(loan_data_strings[:,3])"
      ]
    },
    {
      "cell_type": "code",
      "execution_count": 64,
      "metadata": {
        "colab": {
          "base_uri": "https://localhost:8080/"
        },
        "id": "QpB_LO0W_rhc",
        "outputId": "6c0c3d5e-35ee-440c-cde0-7ec67cefe2b9"
      },
      "outputs": [
        {
          "output_type": "execute_result",
          "data": {
            "text/plain": [
              "array(['', 'A1', 'A2', 'A3', 'A4', 'A5', 'B1', 'B2', 'B3', 'B4', 'B5', 'C1', 'C2', 'C3', 'C4',\n",
              "       'C5', 'D1', 'D2', 'D3', 'D4', 'D5', 'E1', 'E2', 'E3', 'E4', 'E5', 'F1', 'F2', 'F3', 'F4',\n",
              "       'F5', 'G1', 'G2', 'G3', 'G4', 'G5'], dtype='<U69')"
            ]
          },
          "metadata": {},
          "execution_count": 64
        }
      ],
      "source": [
        "np.unique(loan_data_strings[:,4])"
      ]
    },
    {
      "cell_type": "markdown",
      "metadata": {
        "id": "O7JB13rw_rhc"
      },
      "source": [
        "#### Filling Sub Grade"
      ]
    },
    {
      "cell_type": "code",
      "execution_count": 65,
      "metadata": {
        "id": "P-S08tAx_rhc"
      },
      "outputs": [],
      "source": [
        "for i in np.unique(loan_data_strings[:,3])[1:]:\n",
        "    loan_data_strings[:,4] = np.where((loan_data_strings[:,4] == '') & (loan_data_strings[:,3] == i),\n",
        "                                      i + '5',\n",
        "                                      loan_data_strings[:,4])"
      ]
    },
    {
      "cell_type": "code",
      "execution_count": 66,
      "metadata": {
        "colab": {
          "base_uri": "https://localhost:8080/"
        },
        "id": "8yFgjCbg_rhc",
        "outputId": "a9048129-d696-4893-a21a-e43b7076c5f0"
      },
      "outputs": [
        {
          "output_type": "execute_result",
          "data": {
            "text/plain": [
              "(array(['', 'A1', 'A2', 'A3', 'A4', 'A5', 'B1', 'B2', 'B3', 'B4', 'B5', 'C1', 'C2', 'C3', 'C4',\n",
              "        'C5', 'D1', 'D2', 'D3', 'D4', 'D5', 'E1', 'E2', 'E3', 'E4', 'E5', 'F1', 'F2', 'F3', 'F4',\n",
              "        'F5', 'G1', 'G2', 'G3', 'G4', 'G5'], dtype='<U69'),\n",
              " array([  9, 285, 278, 239, 323, 592, 509, 517, 530, 553, 633, 629, 567, 586, 564, 577, 391, 267,\n",
              "        250, 255, 288, 235, 162, 171, 139, 160,  94,  52,  34,  43,  24,  19,  10,   3,   7,   5]))"
            ]
          },
          "metadata": {},
          "execution_count": 66
        }
      ],
      "source": [
        "np.unique(loan_data_strings[:,4], return_counts = True)"
      ]
    },
    {
      "cell_type": "code",
      "execution_count": 67,
      "metadata": {
        "id": "TMYCAb4G_rhc"
      },
      "outputs": [],
      "source": [
        "loan_data_strings[:,4] = np.where(loan_data_strings[:,4] == '',\n",
        "                                  'H1',\n",
        "                                  loan_data_strings[:,4])"
      ]
    },
    {
      "cell_type": "code",
      "execution_count": 68,
      "metadata": {
        "scrolled": false,
        "colab": {
          "base_uri": "https://localhost:8080/"
        },
        "id": "71PYrrl1_rhc",
        "outputId": "0923ec0f-ddef-44f4-8fc0-44136e335ae8"
      },
      "outputs": [
        {
          "output_type": "execute_result",
          "data": {
            "text/plain": [
              "array(['A1', 'A2', 'A3', 'A4', 'A5', 'B1', 'B2', 'B3', 'B4', 'B5', 'C1', 'C2', 'C3', 'C4', 'C5',\n",
              "       'D1', 'D2', 'D3', 'D4', 'D5', 'E1', 'E2', 'E3', 'E4', 'E5', 'F1', 'F2', 'F3', 'F4', 'F5',\n",
              "       'G1', 'G2', 'G3', 'G4', 'G5', 'H1'], dtype='<U69')"
            ]
          },
          "metadata": {},
          "execution_count": 68
        }
      ],
      "source": [
        "np.unique(loan_data_strings[:,4])"
      ]
    },
    {
      "cell_type": "markdown",
      "metadata": {
        "id": "3pyHFqxR_rhc"
      },
      "source": [
        "#### Removing Grade"
      ]
    },
    {
      "cell_type": "code",
      "execution_count": 69,
      "metadata": {
        "id": "CTv7PGsa_rhc"
      },
      "outputs": [],
      "source": [
        "loan_data_strings = np.delete(loan_data_strings, 3, axis = 1)"
      ]
    },
    {
      "cell_type": "code",
      "execution_count": 70,
      "metadata": {
        "colab": {
          "base_uri": "https://localhost:8080/"
        },
        "id": "IJcpWlYE_rhd",
        "outputId": "0119e01f-6f59-4450-9880-4ed51b2d5c7d"
      },
      "outputs": [
        {
          "output_type": "execute_result",
          "data": {
            "text/plain": [
              "array(['C3', 'A5', 'B5', ..., 'A5', 'D2', 'A4'], dtype='<U69')"
            ]
          },
          "metadata": {},
          "execution_count": 70
        }
      ],
      "source": [
        "loan_data_strings[:,3]"
      ]
    },
    {
      "cell_type": "code",
      "execution_count": 71,
      "metadata": {
        "id": "RiK9GXoH_rhd"
      },
      "outputs": [],
      "source": [
        "header_strings = np.delete(header_strings, 3)"
      ]
    },
    {
      "cell_type": "code",
      "execution_count": 72,
      "metadata": {
        "colab": {
          "base_uri": "https://localhost:8080/",
          "height": 35
        },
        "id": "PqDTn8yB_rhd",
        "outputId": "087842ba-6839-4fac-99c0-8009ea996f84"
      },
      "outputs": [
        {
          "output_type": "execute_result",
          "data": {
            "text/plain": [
              "'sub_grade'"
            ],
            "application/vnd.google.colaboratory.intrinsic+json": {
              "type": "string"
            }
          },
          "metadata": {},
          "execution_count": 72
        }
      ],
      "source": [
        "header_strings[3]"
      ]
    },
    {
      "cell_type": "markdown",
      "metadata": {
        "id": "XT_-89Hz_rhd"
      },
      "source": [
        "#### Converting Sub Grade"
      ]
    },
    {
      "cell_type": "code",
      "execution_count": 73,
      "metadata": {
        "colab": {
          "base_uri": "https://localhost:8080/"
        },
        "id": "3KMVNdG2_rhd",
        "outputId": "0547c2c9-8305-48d1-c2ac-236de05feb63"
      },
      "outputs": [
        {
          "output_type": "execute_result",
          "data": {
            "text/plain": [
              "array(['A1', 'A2', 'A3', 'A4', 'A5', 'B1', 'B2', 'B3', 'B4', 'B5', 'C1', 'C2', 'C3', 'C4', 'C5',\n",
              "       'D1', 'D2', 'D3', 'D4', 'D5', 'E1', 'E2', 'E3', 'E4', 'E5', 'F1', 'F2', 'F3', 'F4', 'F5',\n",
              "       'G1', 'G2', 'G3', 'G4', 'G5', 'H1'], dtype='<U69')"
            ]
          },
          "metadata": {},
          "execution_count": 73
        }
      ],
      "source": [
        "np.unique(loan_data_strings[:,3])"
      ]
    },
    {
      "cell_type": "code",
      "execution_count": 74,
      "metadata": {
        "id": "e2QKf3tU_rhd"
      },
      "outputs": [],
      "source": [
        "keys = list(np.unique(loan_data_strings[:,3]))\n",
        "values = list(range(1, np.unique(loan_data_strings[:,3]).shape[0] + 1))\n",
        "dict_sub_grade = dict(zip(keys, values))"
      ]
    },
    {
      "cell_type": "code",
      "execution_count": 75,
      "metadata": {
        "colab": {
          "base_uri": "https://localhost:8080/"
        },
        "id": "Zpcsg0iM_rhd",
        "outputId": "4e1ef806-48fd-4808-c404-d5a84f7e56df"
      },
      "outputs": [
        {
          "output_type": "execute_result",
          "data": {
            "text/plain": [
              "{'A1': 1,\n",
              " 'A2': 2,\n",
              " 'A3': 3,\n",
              " 'A4': 4,\n",
              " 'A5': 5,\n",
              " 'B1': 6,\n",
              " 'B2': 7,\n",
              " 'B3': 8,\n",
              " 'B4': 9,\n",
              " 'B5': 10,\n",
              " 'C1': 11,\n",
              " 'C2': 12,\n",
              " 'C3': 13,\n",
              " 'C4': 14,\n",
              " 'C5': 15,\n",
              " 'D1': 16,\n",
              " 'D2': 17,\n",
              " 'D3': 18,\n",
              " 'D4': 19,\n",
              " 'D5': 20,\n",
              " 'E1': 21,\n",
              " 'E2': 22,\n",
              " 'E3': 23,\n",
              " 'E4': 24,\n",
              " 'E5': 25,\n",
              " 'F1': 26,\n",
              " 'F2': 27,\n",
              " 'F3': 28,\n",
              " 'F4': 29,\n",
              " 'F5': 30,\n",
              " 'G1': 31,\n",
              " 'G2': 32,\n",
              " 'G3': 33,\n",
              " 'G4': 34,\n",
              " 'G5': 35,\n",
              " 'H1': 36}"
            ]
          },
          "metadata": {},
          "execution_count": 75
        }
      ],
      "source": [
        "dict_sub_grade"
      ]
    },
    {
      "cell_type": "code",
      "execution_count": 76,
      "metadata": {
        "id": "NDudD8n8_rhd"
      },
      "outputs": [],
      "source": [
        "for i in np.unique(loan_data_strings[:,3]):\n",
        "        loan_data_strings[:,3] = np.where(loan_data_strings[:,3] == i,\n",
        "                                          dict_sub_grade[i],\n",
        "                                          loan_data_strings[:,3])"
      ]
    },
    {
      "cell_type": "code",
      "execution_count": 77,
      "metadata": {
        "colab": {
          "base_uri": "https://localhost:8080/"
        },
        "id": "Xfop2ORS_rhe",
        "outputId": "3b6d6cff-6b6e-4e10-e4d8-ee45f8fe5ed5"
      },
      "outputs": [
        {
          "output_type": "execute_result",
          "data": {
            "text/plain": [
              "array(['1', '10', '11', '12', '13', '14', '15', '16', '17', '18', '19', '2', '20', '21', '22',\n",
              "       '23', '24', '25', '26', '27', '28', '29', '3', '30', '31', '32', '33', '34', '35', '36',\n",
              "       '4', '5', '6', '7', '8', '9'], dtype='<U69')"
            ]
          },
          "metadata": {},
          "execution_count": 77
        }
      ],
      "source": [
        "np.unique(loan_data_strings[:,3])"
      ]
    },
    {
      "cell_type": "markdown",
      "metadata": {
        "id": "QasoksxS_rhe"
      },
      "source": [
        "### Verification Status"
      ]
    },
    {
      "cell_type": "code",
      "execution_count": 78,
      "metadata": {
        "colab": {
          "base_uri": "https://localhost:8080/"
        },
        "id": "oa4i90Tl_rhe",
        "outputId": "a09a3852-c3cb-4c53-e9af-76ae56f39ddc"
      },
      "outputs": [
        {
          "output_type": "execute_result",
          "data": {
            "text/plain": [
              "array(['issue_date', 'loan_status', 'term_months', 'sub_grade', 'verification_status', 'url',\n",
              "       'addr_state'], dtype='<U19')"
            ]
          },
          "metadata": {},
          "execution_count": 78
        }
      ],
      "source": [
        "header_strings"
      ]
    },
    {
      "cell_type": "code",
      "execution_count": 79,
      "metadata": {
        "colab": {
          "base_uri": "https://localhost:8080/"
        },
        "id": "hKT-x_Zh_rhe",
        "outputId": "66f12962-9706-4479-9dfc-4e0de0d257e0"
      },
      "outputs": [
        {
          "output_type": "execute_result",
          "data": {
            "text/plain": [
              "array(['', 'Not Verified', 'Source Verified', 'Verified'], dtype='<U69')"
            ]
          },
          "metadata": {},
          "execution_count": 79
        }
      ],
      "source": [
        "np.unique(loan_data_strings[:,4])"
      ]
    },
    {
      "cell_type": "code",
      "execution_count": 80,
      "metadata": {
        "id": "eyyE-ftW_rhe"
      },
      "outputs": [],
      "source": [
        "loan_data_strings[:,4] = np.where((loan_data_strings[:,4] == '') | (loan_data_strings[:,4] == 'Not Verified'), 0, 1)"
      ]
    },
    {
      "cell_type": "code",
      "execution_count": 81,
      "metadata": {
        "colab": {
          "base_uri": "https://localhost:8080/"
        },
        "id": "QNOs1N4a_rhe",
        "outputId": "cd79e347-9db9-494e-c1c8-7d091e28798a"
      },
      "outputs": [
        {
          "output_type": "execute_result",
          "data": {
            "text/plain": [
              "array(['0', '1'], dtype='<U69')"
            ]
          },
          "metadata": {},
          "execution_count": 81
        }
      ],
      "source": [
        "np.unique(loan_data_strings[:,4])"
      ]
    },
    {
      "cell_type": "markdown",
      "metadata": {
        "id": "0izU-n-5_rhe"
      },
      "source": [
        "### URL"
      ]
    },
    {
      "cell_type": "code",
      "execution_count": 82,
      "metadata": {
        "colab": {
          "base_uri": "https://localhost:8080/"
        },
        "id": "wc6BU-5Q_rhe",
        "outputId": "06d031cb-7591-4b33-cf5d-3d6154959ad4"
      },
      "outputs": [
        {
          "output_type": "execute_result",
          "data": {
            "text/plain": [
              "array(['https://www.lendingclub.com/browse/loanDetail.action?loan_id=48010226',\n",
              "       'https://www.lendingclub.com/browse/loanDetail.action?loan_id=57693261',\n",
              "       'https://www.lendingclub.com/browse/loanDetail.action?loan_id=59432726', ...,\n",
              "       'https://www.lendingclub.com/browse/loanDetail.action?loan_id=50415990',\n",
              "       'https://www.lendingclub.com/browse/loanDetail.action?loan_id=46154151',\n",
              "       'https://www.lendingclub.com/browse/loanDetail.action?loan_id=66055249'], dtype='<U69')"
            ]
          },
          "metadata": {},
          "execution_count": 82
        }
      ],
      "source": [
        "loan_data_strings[:,5]"
      ]
    },
    {
      "cell_type": "code",
      "execution_count": 83,
      "metadata": {
        "colab": {
          "base_uri": "https://localhost:8080/"
        },
        "id": "OWV-KPLh_rhf",
        "outputId": "bfec9fc0-d5da-4718-b601-93918fc607cd"
      },
      "outputs": [
        {
          "output_type": "execute_result",
          "data": {
            "text/plain": [
              "chararray(['48010226', '57693261', '59432726', ..., '50415990', '46154151', '66055249'],\n",
              "          dtype='<U69')"
            ]
          },
          "metadata": {},
          "execution_count": 83
        }
      ],
      "source": [
        "np.chararray.strip(loan_data_strings[:,5], \"https://www.lendingclub.com/browse/loanDetail.action?loan_id=\")"
      ]
    },
    {
      "cell_type": "code",
      "execution_count": 84,
      "metadata": {
        "id": "_rPoPXaP_rhf"
      },
      "outputs": [],
      "source": [
        "loan_data_strings[:,5] = np.chararray.strip(loan_data_strings[:,5], \"https://www.lendingclub.com/browse/loanDetail.action?loan_id=\")"
      ]
    },
    {
      "cell_type": "code",
      "execution_count": 85,
      "metadata": {
        "scrolled": true,
        "colab": {
          "base_uri": "https://localhost:8080/"
        },
        "id": "7RCaJ5r7_rhf",
        "outputId": "3f35fae6-1d35-4aca-809b-483090c9f2e5"
      },
      "outputs": [
        {
          "output_type": "execute_result",
          "data": {
            "text/plain": [
              "array(['id', 'issue_d', 'loan_amnt', 'loan_status', 'funded_amnt', 'term', 'int_rate',\n",
              "       'installment', 'grade', 'sub_grade', 'verification_status', 'url', 'addr_state',\n",
              "       'total_pymnt'], dtype='<U19')"
            ]
          },
          "metadata": {},
          "execution_count": 85
        }
      ],
      "source": [
        "header_full"
      ]
    },
    {
      "cell_type": "code",
      "execution_count": 86,
      "metadata": {
        "colab": {
          "base_uri": "https://localhost:8080/"
        },
        "id": "7oG_Hhev_rhf",
        "outputId": "03001b51-898e-40bc-d940-ae4aba919c9d"
      },
      "outputs": [
        {
          "output_type": "execute_result",
          "data": {
            "text/plain": [
              "array([48010226, 57693261, 59432726, ..., 50415990, 46154151, 66055249], dtype=int32)"
            ]
          },
          "metadata": {},
          "execution_count": 86
        }
      ],
      "source": [
        "loan_data_numeric[:,0].astype(dtype = np.int32)"
      ]
    },
    {
      "cell_type": "code",
      "execution_count": 87,
      "metadata": {
        "colab": {
          "base_uri": "https://localhost:8080/"
        },
        "id": "g2Lpc5Kt_rhf",
        "outputId": "9b751d81-760d-4c38-8184-84f249e0c69e"
      },
      "outputs": [
        {
          "output_type": "execute_result",
          "data": {
            "text/plain": [
              "array([48010226, 57693261, 59432726, ..., 50415990, 46154151, 66055249], dtype=int32)"
            ]
          },
          "metadata": {},
          "execution_count": 87
        }
      ],
      "source": [
        "loan_data_strings[:,5].astype(dtype = np.int32)"
      ]
    },
    {
      "cell_type": "code",
      "execution_count": 88,
      "metadata": {
        "scrolled": true,
        "colab": {
          "base_uri": "https://localhost:8080/"
        },
        "id": "b3j18W5u_rhf",
        "outputId": "f8f4f758-423f-4eb9-b76e-13189c79e8e5"
      },
      "outputs": [
        {
          "output_type": "execute_result",
          "data": {
            "text/plain": [
              "True"
            ]
          },
          "metadata": {},
          "execution_count": 88
        }
      ],
      "source": [
        "np.array_equal(loan_data_numeric[:,0].astype(dtype = np.int32), loan_data_strings[:,5].astype(dtype = np.int32))"
      ]
    },
    {
      "cell_type": "code",
      "execution_count": 89,
      "metadata": {
        "id": "EbVqEUL1_rhf"
      },
      "outputs": [],
      "source": [
        "loan_data_strings = np.delete(loan_data_strings, 5, axis = 1)\n",
        "header_strings = np.delete(header_strings, 5)"
      ]
    },
    {
      "cell_type": "code",
      "execution_count": 90,
      "metadata": {
        "colab": {
          "base_uri": "https://localhost:8080/"
        },
        "id": "UP4c4HlC_rhg",
        "outputId": "2ef92913-73e4-4208-c3e0-01fcc5a4170d"
      },
      "outputs": [
        {
          "output_type": "execute_result",
          "data": {
            "text/plain": [
              "array(['CA', 'NY', 'PA', ..., 'CA', 'OH', 'IL'], dtype='<U69')"
            ]
          },
          "metadata": {},
          "execution_count": 90
        }
      ],
      "source": [
        "loan_data_strings[:,5]"
      ]
    },
    {
      "cell_type": "code",
      "execution_count": 91,
      "metadata": {
        "colab": {
          "base_uri": "https://localhost:8080/"
        },
        "id": "dkMlYxGt_rhg",
        "outputId": "4f4df74c-74da-4c2d-e8db-d86910998724"
      },
      "outputs": [
        {
          "output_type": "execute_result",
          "data": {
            "text/plain": [
              "array(['issue_date', 'loan_status', 'term_months', 'sub_grade', 'verification_status',\n",
              "       'addr_state'], dtype='<U19')"
            ]
          },
          "metadata": {},
          "execution_count": 91
        }
      ],
      "source": [
        "header_strings"
      ]
    },
    {
      "cell_type": "code",
      "execution_count": 92,
      "metadata": {
        "colab": {
          "base_uri": "https://localhost:8080/"
        },
        "id": "5-bqh-rW_rhg",
        "outputId": "a45b5ff7-8642-46f4-b7af-fe22e8597e49"
      },
      "outputs": [
        {
          "output_type": "execute_result",
          "data": {
            "text/plain": [
              "array([48010226., 57693261., 59432726., ..., 50415990., 46154151., 66055249.])"
            ]
          },
          "metadata": {},
          "execution_count": 92
        }
      ],
      "source": [
        "loan_data_numeric[:,0]"
      ]
    },
    {
      "cell_type": "code",
      "execution_count": 93,
      "metadata": {
        "colab": {
          "base_uri": "https://localhost:8080/"
        },
        "id": "Z6WWH03b_rhg",
        "outputId": "2f8a34ab-5b70-4880-defb-2e57d0bbbd92"
      },
      "outputs": [
        {
          "output_type": "execute_result",
          "data": {
            "text/plain": [
              "array(['id', 'loan_amnt', 'funded_amnt', 'int_rate', 'installment', 'total_pymnt'], dtype='<U19')"
            ]
          },
          "metadata": {},
          "execution_count": 93
        }
      ],
      "source": [
        "header_numeric"
      ]
    },
    {
      "cell_type": "markdown",
      "metadata": {
        "id": "OHkLvh0d_rhg"
      },
      "source": [
        "### State Address"
      ]
    },
    {
      "cell_type": "code",
      "execution_count": 94,
      "metadata": {
        "colab": {
          "base_uri": "https://localhost:8080/"
        },
        "id": "cNKhvrrB_rhg",
        "outputId": "3f3ac79a-886f-4639-de79-31239d766372"
      },
      "outputs": [
        {
          "output_type": "execute_result",
          "data": {
            "text/plain": [
              "array(['issue_date', 'loan_status', 'term_months', 'sub_grade', 'verification_status',\n",
              "       'addr_state'], dtype='<U19')"
            ]
          },
          "metadata": {},
          "execution_count": 94
        }
      ],
      "source": [
        "header_strings"
      ]
    },
    {
      "cell_type": "code",
      "execution_count": 95,
      "metadata": {
        "id": "_4XVU-8V_rhg"
      },
      "outputs": [],
      "source": [
        "header_strings[5] = \"state_address\""
      ]
    },
    {
      "cell_type": "code",
      "execution_count": 96,
      "metadata": {
        "colab": {
          "base_uri": "https://localhost:8080/"
        },
        "id": "eIAYnUyE_rhg",
        "outputId": "ebcaeb3e-c10a-4b3e-c71c-6ecffe8d3157"
      },
      "outputs": [
        {
          "output_type": "execute_result",
          "data": {
            "text/plain": [
              "(array(['CA', 'NY', 'TX', 'FL', '', 'IL', 'NJ', 'GA', 'PA', 'OH', 'MI', 'NC', 'VA', 'MD', 'AZ',\n",
              "        'WA', 'MA', 'CO', 'MO', 'MN', 'IN', 'WI', 'CT', 'TN', 'NV', 'AL', 'LA', 'OR', 'SC', 'KY',\n",
              "        'KS', 'OK', 'UT', 'AR', 'MS', 'NH', 'NM', 'WV', 'HI', 'RI', 'MT', 'DE', 'DC', 'WY', 'AK',\n",
              "        'NE', 'SD', 'VT', 'ND', 'ME'], dtype='<U69'),\n",
              " array([1336,  777,  758,  690,  500,  389,  341,  321,  320,  312,  267,  261,  242,  222,  220,\n",
              "         216,  210,  201,  160,  156,  152,  148,  143,  143,  130,  119,  116,  108,  107,   84,\n",
              "          84,   83,   74,   74,   61,   58,   57,   49,   44,   40,   28,   27,   27,   27,   26,\n",
              "          25,   24,   17,   16,   10]))"
            ]
          },
          "metadata": {},
          "execution_count": 96
        }
      ],
      "source": [
        "states_names, states_count = np.unique(loan_data_strings[:,5], return_counts = True)\n",
        "states_count_sorted = np.argsort(-states_count)\n",
        "states_names[states_count_sorted], states_count[states_count_sorted]"
      ]
    },
    {
      "cell_type": "code",
      "execution_count": 97,
      "metadata": {
        "id": "K6Z7eEEI_rhh"
      },
      "outputs": [],
      "source": [
        "loan_data_strings[:,5] = np.where(loan_data_strings[:,5] == '',\n",
        "                                  0,\n",
        "                                  loan_data_strings[:,5])"
      ]
    },
    {
      "cell_type": "code",
      "execution_count": 98,
      "metadata": {
        "id": "RtZ4Dk-Q_rhh"
      },
      "outputs": [],
      "source": [
        "states_west = np.array(['WA', 'OR','CA','NV','ID','MT', 'WY','UT','CO', 'AZ','NM','HI','AK'])\n",
        "states_south = np.array(['TX','OK','AR','LA','MS','AL','TN','KY','FL','GA','SC','NC','VA','WV','MD','DE','DC'])\n",
        "states_midwest = np.array(['ND','SD','NE','KS','MN','IA','MO','WI','IL','IN','MI','OH'])\n",
        "states_east = np.array(['PA','NY','NJ','CT','MA','VT','NH','ME','RI'])"
      ]
    },
    {
      "cell_type": "markdown",
      "metadata": {
        "id": "SYGHZVcX_rhh"
      },
      "source": [
        "https://www2.census.gov/geo/pdfs/maps-data/maps/reference/us_regdiv.pdf"
      ]
    },
    {
      "cell_type": "code",
      "execution_count": 99,
      "metadata": {
        "id": "EVsCW8kE_rhh"
      },
      "outputs": [],
      "source": [
        "loan_data_strings[:,5] = np.where(np.isin(loan_data_strings[:,5], states_west), 1, loan_data_strings[:,5])\n",
        "loan_data_strings[:,5] = np.where(np.isin(loan_data_strings[:,5], states_south), 2, loan_data_strings[:,5])\n",
        "loan_data_strings[:,5] = np.where(np.isin(loan_data_strings[:,5], states_midwest), 3, loan_data_strings[:,5])\n",
        "loan_data_strings[:,5] = np.where(np.isin(loan_data_strings[:,5], states_east), 4, loan_data_strings[:,5])"
      ]
    },
    {
      "cell_type": "code",
      "execution_count": 100,
      "metadata": {
        "colab": {
          "base_uri": "https://localhost:8080/"
        },
        "id": "IcxsG3B9_rhh",
        "outputId": "de0d5e31-1446-4ca0-e51e-b08f53a38ac9"
      },
      "outputs": [
        {
          "output_type": "execute_result",
          "data": {
            "text/plain": [
              "array(['0', '1', '2', '3', '4'], dtype='<U69')"
            ]
          },
          "metadata": {},
          "execution_count": 100
        }
      ],
      "source": [
        "np.unique(loan_data_strings[:,5])"
      ]
    },
    {
      "cell_type": "markdown",
      "metadata": {
        "id": "5BJoMSQy_rhh"
      },
      "source": [
        "## Converting to Numbers"
      ]
    },
    {
      "cell_type": "code",
      "execution_count": 101,
      "metadata": {
        "colab": {
          "base_uri": "https://localhost:8080/"
        },
        "id": "LXObbAMq_rhh",
        "outputId": "bbf5fc5e-118a-41d7-f947-977be2290e2f"
      },
      "outputs": [
        {
          "output_type": "execute_result",
          "data": {
            "text/plain": [
              "array([['5', '1', '36', '13', '1', '1'],\n",
              "       ['0', '1', '36', '5', '1', '4'],\n",
              "       ['9', '1', '36', '10', '1', '4'],\n",
              "       ...,\n",
              "       ['6', '1', '36', '5', '1', '1'],\n",
              "       ['4', '1', '36', '17', '1', '3'],\n",
              "       ['12', '1', '36', '4', '0', '3']], dtype='<U69')"
            ]
          },
          "metadata": {},
          "execution_count": 101
        }
      ],
      "source": [
        "loan_data_strings"
      ]
    },
    {
      "cell_type": "code",
      "execution_count": 105,
      "metadata": {
        "id": "MZMqf_oj_rhh"
      },
      "outputs": [],
      "source": [
        "loan_data_strings = loan_data_strings.astype(np.int16)"
      ]
    },
    {
      "cell_type": "code",
      "execution_count": 106,
      "metadata": {
        "colab": {
          "base_uri": "https://localhost:8080/"
        },
        "id": "5OSmwqyl_rhh",
        "outputId": "17174ed2-0eaf-451e-9b10-f0985e121ec2"
      },
      "outputs": [
        {
          "output_type": "execute_result",
          "data": {
            "text/plain": [
              "array([[ 5,  1, 36, 13,  1,  1],\n",
              "       [ 0,  1, 36,  5,  1,  4],\n",
              "       [ 9,  1, 36, 10,  1,  4],\n",
              "       ...,\n",
              "       [ 6,  1, 36,  5,  1,  1],\n",
              "       [ 4,  1, 36, 17,  1,  3],\n",
              "       [12,  1, 36,  4,  0,  3]], dtype=int16)"
            ]
          },
          "metadata": {},
          "execution_count": 106
        }
      ],
      "source": [
        "loan_data_strings"
      ]
    },
    {
      "cell_type": "markdown",
      "metadata": {
        "id": "tc9LG4c8_rhi"
      },
      "source": [
        "### Checkpoint 1: Strings"
      ]
    },
    {
      "cell_type": "code",
      "execution_count": 107,
      "metadata": {
        "id": "WcnTI-3K_rhi"
      },
      "outputs": [],
      "source": [
        "checkpoint_strings = checkpoint(\"Checkpoint-Strings\", header_strings, loan_data_strings)"
      ]
    },
    {
      "cell_type": "code",
      "execution_count": 108,
      "metadata": {
        "colab": {
          "base_uri": "https://localhost:8080/"
        },
        "id": "vQ4XzJYr_rhi",
        "outputId": "3d2023fe-fb6d-49ce-ade7-4be773498eea"
      },
      "outputs": [
        {
          "output_type": "execute_result",
          "data": {
            "text/plain": [
              "array(['issue_date', 'loan_status', 'term_months', 'sub_grade', 'verification_status',\n",
              "       'state_address'], dtype='<U19')"
            ]
          },
          "metadata": {},
          "execution_count": 108
        }
      ],
      "source": [
        "checkpoint_strings[\"header\"]"
      ]
    },
    {
      "cell_type": "code",
      "execution_count": 109,
      "metadata": {
        "colab": {
          "base_uri": "https://localhost:8080/"
        },
        "id": "wwu7LrXf_rhi",
        "outputId": "4de0d059-b5f4-437b-d0bf-51e795050f59"
      },
      "outputs": [
        {
          "output_type": "execute_result",
          "data": {
            "text/plain": [
              "array([[ 5,  1, 36, 13,  1,  1],\n",
              "       [ 0,  1, 36,  5,  1,  4],\n",
              "       [ 9,  1, 36, 10,  1,  4],\n",
              "       ...,\n",
              "       [ 6,  1, 36,  5,  1,  1],\n",
              "       [ 4,  1, 36, 17,  1,  3],\n",
              "       [12,  1, 36,  4,  0,  3]], dtype=int16)"
            ]
          },
          "metadata": {},
          "execution_count": 109
        }
      ],
      "source": [
        "checkpoint_strings[\"data\"]"
      ]
    },
    {
      "cell_type": "code",
      "execution_count": 110,
      "metadata": {
        "colab": {
          "base_uri": "https://localhost:8080/"
        },
        "id": "sEv__z0u_rhi",
        "outputId": "7baf61ce-e1ae-480f-87de-d2c458782366"
      },
      "outputs": [
        {
          "output_type": "execute_result",
          "data": {
            "text/plain": [
              "True"
            ]
          },
          "metadata": {},
          "execution_count": 110
        }
      ],
      "source": [
        "np.array_equal(checkpoint_strings['data'], loan_data_strings)"
      ]
    },
    {
      "cell_type": "markdown",
      "metadata": {
        "id": "f2SmJHCB_rhi"
      },
      "source": [
        "## Manipulating Numeric Columns"
      ]
    },
    {
      "cell_type": "code",
      "execution_count": 111,
      "metadata": {
        "colab": {
          "base_uri": "https://localhost:8080/"
        },
        "id": "onxeC3t3_rhi",
        "outputId": "06fad0a4-4122-4a59-c0b2-ce6a721a6713"
      },
      "outputs": [
        {
          "output_type": "execute_result",
          "data": {
            "text/plain": [
              "array([[48010226.  ,    35000.  ,    35000.  ,       13.33,     1184.86,     9452.96],\n",
              "       [57693261.  ,    30000.  ,    30000.  , 68616520.  ,      938.57,     4679.7 ],\n",
              "       [59432726.  ,    15000.  ,    15000.  , 68616520.  ,      494.86,     1969.83],\n",
              "       ...,\n",
              "       [50415990.  ,    10000.  ,    10000.  , 68616520.  , 68616520.  ,     2185.64],\n",
              "       [46154151.  , 68616520.  ,    10000.  ,       16.55,      354.3 ,     3199.4 ],\n",
              "       [66055249.  ,    10000.  ,    10000.  , 68616520.  ,      309.97,      301.9 ]])"
            ]
          },
          "metadata": {},
          "execution_count": 111
        }
      ],
      "source": [
        "loan_data_numeric"
      ]
    },
    {
      "cell_type": "code",
      "execution_count": 112,
      "metadata": {
        "colab": {
          "base_uri": "https://localhost:8080/"
        },
        "id": "jcjk2liV_rhi",
        "outputId": "9b56c26f-d715-43dd-87e6-f3e19f84036e"
      },
      "outputs": [
        {
          "output_type": "execute_result",
          "data": {
            "text/plain": [
              "0"
            ]
          },
          "metadata": {},
          "execution_count": 112
        }
      ],
      "source": [
        "np.isnan(loan_data_numeric).sum()"
      ]
    },
    {
      "cell_type": "markdown",
      "metadata": {
        "id": "IJqm0J-N_rhj"
      },
      "source": [
        "### Substitute \"Filler\" Values"
      ]
    },
    {
      "cell_type": "code",
      "execution_count": 113,
      "metadata": {
        "colab": {
          "base_uri": "https://localhost:8080/"
        },
        "id": "WUHHUD_M_rhj",
        "outputId": "bebc0129-35f1-46b8-caae-cf74834b2172"
      },
      "outputs": [
        {
          "output_type": "execute_result",
          "data": {
            "text/plain": [
              "array(['id', 'loan_amnt', 'funded_amnt', 'int_rate', 'installment', 'total_pymnt'], dtype='<U19')"
            ]
          },
          "metadata": {},
          "execution_count": 113
        }
      ],
      "source": [
        "header_numeric"
      ]
    },
    {
      "cell_type": "markdown",
      "metadata": {
        "id": "Q9XJRjdN_rhk"
      },
      "source": [
        "#### ID"
      ]
    },
    {
      "cell_type": "code",
      "execution_count": 114,
      "metadata": {
        "colab": {
          "base_uri": "https://localhost:8080/"
        },
        "id": "bGNUFrj-_rhl",
        "outputId": "5d15a071-625a-48a5-8bb3-fb815d5c4e01"
      },
      "outputs": [
        {
          "output_type": "execute_result",
          "data": {
            "text/plain": [
              "68616520.0"
            ]
          },
          "metadata": {},
          "execution_count": 114
        }
      ],
      "source": [
        "temporary_fill"
      ]
    },
    {
      "cell_type": "code",
      "execution_count": 115,
      "metadata": {
        "colab": {
          "base_uri": "https://localhost:8080/"
        },
        "id": "vaDGySpp_rhl",
        "outputId": "3f40762a-b773-441a-d596-7e44120ccc68"
      },
      "outputs": [
        {
          "output_type": "execute_result",
          "data": {
            "text/plain": [
              "array([False, False, False, ..., False, False, False])"
            ]
          },
          "metadata": {},
          "execution_count": 115
        }
      ],
      "source": [
        "np.isin(loan_data_numeric[:,0], temporary_fill)"
      ]
    },
    {
      "cell_type": "code",
      "execution_count": 116,
      "metadata": {
        "colab": {
          "base_uri": "https://localhost:8080/"
        },
        "id": "M6T_DDzX_rhl",
        "outputId": "90057dfa-f2c5-4419-ee15-07d817f5a873"
      },
      "outputs": [
        {
          "output_type": "execute_result",
          "data": {
            "text/plain": [
              "0"
            ]
          },
          "metadata": {},
          "execution_count": 116
        }
      ],
      "source": [
        "np.isin(loan_data_numeric[:,0], temporary_fill).sum()"
      ]
    },
    {
      "cell_type": "code",
      "execution_count": 117,
      "metadata": {
        "colab": {
          "base_uri": "https://localhost:8080/"
        },
        "id": "bONNZPBq_rhl",
        "outputId": "8594ccff-2e51-409c-9cb6-6601d4b7ebb2"
      },
      "outputs": [
        {
          "output_type": "execute_result",
          "data": {
            "text/plain": [
              "array(['id', 'loan_amnt', 'funded_amnt', 'int_rate', 'installment', 'total_pymnt'], dtype='<U19')"
            ]
          },
          "metadata": {},
          "execution_count": 117
        }
      ],
      "source": [
        "header_numeric"
      ]
    },
    {
      "cell_type": "markdown",
      "metadata": {
        "id": "mYgTNnj6_rhl"
      },
      "source": [
        "#### Temporary Stats"
      ]
    },
    {
      "cell_type": "code",
      "execution_count": 118,
      "metadata": {
        "colab": {
          "base_uri": "https://localhost:8080/"
        },
        "id": "B69D2tRx_rhl",
        "outputId": "80232b07-831d-4aa1-a430-e3d93c15647b"
      },
      "outputs": [
        {
          "output_type": "execute_result",
          "data": {
            "text/plain": [
              "array([[  373332.  ,     1000.  ,     1000.  ,        6.  ,       31.42,        0.  ],\n",
              "       [54015809.19,    15273.46,    15311.04,       16.62,      440.92,     3143.85],\n",
              "       [68616519.  ,    35000.  ,    35000.  ,       28.99,     1372.97,    41913.62]])"
            ]
          },
          "metadata": {},
          "execution_count": 118
        }
      ],
      "source": [
        "temporary_stats[:, columns_numeric]"
      ]
    },
    {
      "cell_type": "markdown",
      "metadata": {
        "id": "GzxeCc3W_rhl"
      },
      "source": [
        "#### Funded Amount"
      ]
    },
    {
      "cell_type": "code",
      "execution_count": 119,
      "metadata": {
        "colab": {
          "base_uri": "https://localhost:8080/"
        },
        "id": "UWaugN2y_rhm",
        "outputId": "f86c2493-e756-451c-ebc8-0f5d4c496712"
      },
      "outputs": [
        {
          "output_type": "execute_result",
          "data": {
            "text/plain": [
              "array([35000., 30000., 15000., ..., 10000., 10000., 10000.])"
            ]
          },
          "metadata": {},
          "execution_count": 119
        }
      ],
      "source": [
        "loan_data_numeric[:,2]"
      ]
    },
    {
      "cell_type": "code",
      "execution_count": 120,
      "metadata": {
        "colab": {
          "base_uri": "https://localhost:8080/"
        },
        "id": "_N5aYZdn_rhm",
        "outputId": "b2d553f4-813c-4a17-ebbd-5c5b9e69302c"
      },
      "outputs": [
        {
          "output_type": "execute_result",
          "data": {
            "text/plain": [
              "array([35000., 30000., 15000., ..., 10000., 10000., 10000.])"
            ]
          },
          "metadata": {},
          "execution_count": 120
        }
      ],
      "source": [
        "loan_data_numeric[:,2] = np.where(loan_data_numeric[:,2] == temporary_fill,\n",
        "                                  temporary_stats[0, columns_numeric[2]],\n",
        "                                  loan_data_numeric[:,2])\n",
        "loan_data_numeric[:,2]"
      ]
    },
    {
      "cell_type": "code",
      "execution_count": 121,
      "metadata": {
        "colab": {
          "base_uri": "https://localhost:8080/"
        },
        "id": "BIMFA3_B_rhm",
        "outputId": "55f44d01-2d1f-4a21-92a3-ce8e8208b29b"
      },
      "outputs": [
        {
          "output_type": "execute_result",
          "data": {
            "text/plain": [
              "6.0"
            ]
          },
          "metadata": {},
          "execution_count": 121
        }
      ],
      "source": [
        "temporary_stats[0,columns_numeric[3]]"
      ]
    },
    {
      "cell_type": "markdown",
      "metadata": {
        "id": "RQEUcc1b_rhm"
      },
      "source": [
        "#### Loaned Amount, Interest Rate, Total Payment, Installment"
      ]
    },
    {
      "cell_type": "code",
      "execution_count": 122,
      "metadata": {
        "colab": {
          "base_uri": "https://localhost:8080/"
        },
        "id": "uYiHrwgk_rhm",
        "outputId": "5c4ed9e2-506a-4678-f4f7-ad9b9ce38ab9"
      },
      "outputs": [
        {
          "output_type": "execute_result",
          "data": {
            "text/plain": [
              "array(['id', 'loan_amnt', 'funded_amnt', 'int_rate', 'installment', 'total_pymnt'], dtype='<U19')"
            ]
          },
          "metadata": {},
          "execution_count": 122
        }
      ],
      "source": [
        "header_numeric"
      ]
    },
    {
      "cell_type": "code",
      "execution_count": 123,
      "metadata": {
        "id": "s11Xb5qZ_rhm"
      },
      "outputs": [],
      "source": [
        "for i in [1,3,4,5]:\n",
        "    loan_data_numeric[:,i] = np.where(loan_data_numeric[:,i] == temporary_fill,\n",
        "                                      temporary_stats[2, columns_numeric[i]],\n",
        "                                      loan_data_numeric[:,i])"
      ]
    },
    {
      "cell_type": "code",
      "execution_count": 124,
      "metadata": {
        "colab": {
          "base_uri": "https://localhost:8080/"
        },
        "id": "vzWAZP-T_rhm",
        "outputId": "045bd16d-773f-4446-8fe8-22d2621cdb69"
      },
      "outputs": [
        {
          "output_type": "execute_result",
          "data": {
            "text/plain": [
              "array([[48010226.  ,    35000.  ,    35000.  ,       13.33,     1184.86,     9452.96],\n",
              "       [57693261.  ,    30000.  ,    30000.  ,       28.99,      938.57,     4679.7 ],\n",
              "       [59432726.  ,    15000.  ,    15000.  ,       28.99,      494.86,     1969.83],\n",
              "       ...,\n",
              "       [50415990.  ,    10000.  ,    10000.  ,       28.99,     1372.97,     2185.64],\n",
              "       [46154151.  ,    35000.  ,    10000.  ,       16.55,      354.3 ,     3199.4 ],\n",
              "       [66055249.  ,    10000.  ,    10000.  ,       28.99,      309.97,      301.9 ]])"
            ]
          },
          "metadata": {},
          "execution_count": 124
        }
      ],
      "source": [
        "loan_data_numeric"
      ]
    },
    {
      "cell_type": "markdown",
      "metadata": {
        "id": "-LnFOJfn_rhm"
      },
      "source": [
        "### Currency Change"
      ]
    },
    {
      "cell_type": "markdown",
      "metadata": {
        "id": "Nj2rzCLX_rhn"
      },
      "source": [
        "#### The Exchange Rate"
      ]
    },
    {
      "cell_type": "code",
      "execution_count": 126,
      "metadata": {
        "colab": {
          "base_uri": "https://localhost:8080/"
        },
        "id": "6uIEm6dm_rhn",
        "outputId": "a270ff5b-e4d2-443d-eff4-0d8c6abd7500"
      },
      "outputs": [
        {
          "output_type": "execute_result",
          "data": {
            "text/plain": [
              "array([1.13, 1.12, 1.08, 1.11, 1.1 , 1.12, 1.09, 1.13, 1.13, 1.1 , 1.06, 1.09])"
            ]
          },
          "metadata": {},
          "execution_count": 126
        }
      ],
      "source": [
        "EUR_USD = np.genfromtxt(\"EUR-USD.csv\", delimiter = ',', autostrip = True, skip_header = 1, usecols = 3)\n",
        "EUR_USD"
      ]
    },
    {
      "cell_type": "code",
      "execution_count": 127,
      "metadata": {
        "colab": {
          "base_uri": "https://localhost:8080/"
        },
        "id": "kzhuLof-_rhn",
        "outputId": "e0c6a59b-87df-455a-e992-f315b5e24ede"
      },
      "outputs": [
        {
          "output_type": "execute_result",
          "data": {
            "text/plain": [
              "array([ 5,  0,  9, ...,  6,  4, 12], dtype=int16)"
            ]
          },
          "metadata": {},
          "execution_count": 127
        }
      ],
      "source": [
        "loan_data_strings[:,0]"
      ]
    },
    {
      "cell_type": "code",
      "execution_count": 128,
      "metadata": {
        "colab": {
          "base_uri": "https://localhost:8080/"
        },
        "id": "VRhjM3WQ_rhn",
        "outputId": "8ec316f0-263d-440f-879d-8bc80d2cfad1"
      },
      "outputs": [
        {
          "output_type": "execute_result",
          "data": {
            "text/plain": [
              "array([1.1 , 1.11, 1.13, ..., 1.12, 1.11, 1.09])"
            ]
          },
          "metadata": {},
          "execution_count": 128
        }
      ],
      "source": [
        "exchange_rate = loan_data_strings[:,0]\n",
        "\n",
        "for i in range(1,13):\n",
        "    exchange_rate = np.where(exchange_rate == i,\n",
        "                             EUR_USD[i-1],\n",
        "                             exchange_rate)\n",
        "\n",
        "exchange_rate = np.where(exchange_rate == 0,\n",
        "                         np.mean(EUR_USD),\n",
        "                         exchange_rate)\n",
        "\n",
        "exchange_rate"
      ]
    },
    {
      "cell_type": "code",
      "execution_count": 129,
      "metadata": {
        "colab": {
          "base_uri": "https://localhost:8080/"
        },
        "id": "C_dx5G_E_rhn",
        "outputId": "ff44ea3a-bebe-4e2c-c22d-3b16518b1c09"
      },
      "outputs": [
        {
          "output_type": "execute_result",
          "data": {
            "text/plain": [
              "(10000,)"
            ]
          },
          "metadata": {},
          "execution_count": 129
        }
      ],
      "source": [
        "exchange_rate.shape"
      ]
    },
    {
      "cell_type": "code",
      "execution_count": 130,
      "metadata": {
        "colab": {
          "base_uri": "https://localhost:8080/"
        },
        "id": "1qYRC8OK_rhn",
        "outputId": "667b4f84-3ff1-43c2-e102-e711b6000ec0"
      },
      "outputs": [
        {
          "output_type": "execute_result",
          "data": {
            "text/plain": [
              "(10000, 6)"
            ]
          },
          "metadata": {},
          "execution_count": 130
        }
      ],
      "source": [
        "loan_data_numeric.shape"
      ]
    },
    {
      "cell_type": "code",
      "execution_count": 131,
      "metadata": {
        "id": "1K-LdUaM_rhn"
      },
      "outputs": [],
      "source": [
        "exchange_rate = np.reshape(exchange_rate, (10000,1))"
      ]
    },
    {
      "cell_type": "code",
      "execution_count": 132,
      "metadata": {
        "id": "OZvV9vvw_rhn"
      },
      "outputs": [],
      "source": [
        "loan_data_numeric = np.hstack((loan_data_numeric, exchange_rate))"
      ]
    },
    {
      "cell_type": "code",
      "execution_count": 133,
      "metadata": {
        "colab": {
          "base_uri": "https://localhost:8080/"
        },
        "id": "fXWjcne2_rho",
        "outputId": "c0ed2577-ab90-4803-d2fb-c72ea8de8f82"
      },
      "outputs": [
        {
          "output_type": "execute_result",
          "data": {
            "text/plain": [
              "array(['id', 'loan_amnt', 'funded_amnt', 'int_rate', 'installment', 'total_pymnt', 'exchange_rate'],\n",
              "      dtype='<U19')"
            ]
          },
          "metadata": {},
          "execution_count": 133
        }
      ],
      "source": [
        "header_numeric = np.concatenate((header_numeric, np.array(['exchange_rate'])))\n",
        "header_numeric"
      ]
    },
    {
      "cell_type": "markdown",
      "metadata": {
        "id": "q6maJZGB_rho"
      },
      "source": [
        "#### From USD to EUR"
      ]
    },
    {
      "cell_type": "code",
      "execution_count": 134,
      "metadata": {
        "colab": {
          "base_uri": "https://localhost:8080/"
        },
        "id": "mrxb7zny_rho",
        "outputId": "7524506d-4944-423b-dd19-481719cb34e7"
      },
      "outputs": [
        {
          "output_type": "execute_result",
          "data": {
            "text/plain": [
              "array(['id', 'loan_amnt', 'funded_amnt', 'int_rate', 'installment', 'total_pymnt', 'exchange_rate'],\n",
              "      dtype='<U19')"
            ]
          },
          "metadata": {},
          "execution_count": 134
        }
      ],
      "source": [
        "header_numeric"
      ]
    },
    {
      "cell_type": "code",
      "execution_count": 135,
      "metadata": {
        "id": "bHFLDM1g_rho"
      },
      "outputs": [],
      "source": [
        "columns_dollar = np.array([1,2,4,5])"
      ]
    },
    {
      "cell_type": "code",
      "execution_count": 136,
      "metadata": {
        "colab": {
          "base_uri": "https://localhost:8080/"
        },
        "id": "P4CWj0id_rho",
        "outputId": "621d0005-ff07-46d1-9f26-2ffedfbd2ce3"
      },
      "outputs": [
        {
          "output_type": "execute_result",
          "data": {
            "text/plain": [
              "array([1.1 , 1.11, 1.13, ..., 1.12, 1.11, 1.09])"
            ]
          },
          "metadata": {},
          "execution_count": 136
        }
      ],
      "source": [
        "loan_data_numeric[:,6]"
      ]
    },
    {
      "cell_type": "code",
      "execution_count": 137,
      "metadata": {
        "id": "VFiCkQEW_rho"
      },
      "outputs": [],
      "source": [
        "for i in columns_dollar:\n",
        "    loan_data_numeric = np.hstack((loan_data_numeric, np.reshape(loan_data_numeric[:,i] / loan_data_numeric[:,6], (10000,1))))"
      ]
    },
    {
      "cell_type": "code",
      "execution_count": 138,
      "metadata": {
        "colab": {
          "base_uri": "https://localhost:8080/"
        },
        "id": "onJz124m_rho",
        "outputId": "4c53c69c-b5f0-4659-da0b-c67b2a15aa50"
      },
      "outputs": [
        {
          "output_type": "execute_result",
          "data": {
            "text/plain": [
              "(10000, 11)"
            ]
          },
          "metadata": {},
          "execution_count": 138
        }
      ],
      "source": [
        "loan_data_numeric.shape"
      ]
    },
    {
      "cell_type": "code",
      "execution_count": 139,
      "metadata": {
        "colab": {
          "base_uri": "https://localhost:8080/"
        },
        "id": "KC4Ad63b_rho",
        "outputId": "d1afa6db-bdea-4d32-ddbe-81b6bfeea2fc"
      },
      "outputs": [
        {
          "output_type": "execute_result",
          "data": {
            "text/plain": [
              "array([[48010226.  ,    35000.  ,    35000.  , ...,    31933.3 ,     1081.04,     8624.69],\n",
              "       [57693261.  ,    30000.  ,    30000.  , ...,    27132.46,      848.86,     4232.39],\n",
              "       [59432726.  ,    15000.  ,    15000.  , ...,    13326.3 ,      439.64,     1750.04],\n",
              "       ...,\n",
              "       [50415990.  ,    10000.  ,    10000.  , ...,     8910.3 ,     1223.36,     1947.47],\n",
              "       [46154151.  ,    35000.  ,    10000.  , ...,     8997.4 ,      318.78,     2878.63],\n",
              "       [66055249.  ,    10000.  ,    10000.  , ...,     9145.8 ,      283.49,      276.11]])"
            ]
          },
          "metadata": {},
          "execution_count": 139
        }
      ],
      "source": [
        "loan_data_numeric"
      ]
    },
    {
      "cell_type": "markdown",
      "metadata": {
        "id": "fhNxJykY_rhp"
      },
      "source": [
        "#### Expanding the header"
      ]
    },
    {
      "cell_type": "code",
      "execution_count": 140,
      "metadata": {
        "id": "RRZBZ5Rf_rhp"
      },
      "outputs": [],
      "source": [
        "header_additional = np.array([column_name + '_EUR' for column_name in header_numeric[columns_dollar]])"
      ]
    },
    {
      "cell_type": "code",
      "execution_count": 141,
      "metadata": {
        "colab": {
          "base_uri": "https://localhost:8080/"
        },
        "id": "r7oeU-dH_rhp",
        "outputId": "b8268345-ca96-4e9d-bb36-998d6ebef893"
      },
      "outputs": [
        {
          "output_type": "execute_result",
          "data": {
            "text/plain": [
              "array(['loan_amnt_EUR', 'funded_amnt_EUR', 'installment_EUR', 'total_pymnt_EUR'], dtype='<U15')"
            ]
          },
          "metadata": {},
          "execution_count": 141
        }
      ],
      "source": [
        "header_additional"
      ]
    },
    {
      "cell_type": "code",
      "execution_count": 142,
      "metadata": {
        "id": "82G9U58m_rhp"
      },
      "outputs": [],
      "source": [
        "header_numeric = np.concatenate((header_numeric, header_additional))"
      ]
    },
    {
      "cell_type": "code",
      "execution_count": 143,
      "metadata": {
        "colab": {
          "base_uri": "https://localhost:8080/"
        },
        "id": "0LiZPBbg_rhp",
        "outputId": "162e3fcd-ab48-4c8c-b519-0f7334048ec4"
      },
      "outputs": [
        {
          "output_type": "execute_result",
          "data": {
            "text/plain": [
              "array(['id', 'loan_amnt', 'funded_amnt', 'int_rate', 'installment', 'total_pymnt', 'exchange_rate',\n",
              "       'loan_amnt_EUR', 'funded_amnt_EUR', 'installment_EUR', 'total_pymnt_EUR'], dtype='<U19')"
            ]
          },
          "metadata": {},
          "execution_count": 143
        }
      ],
      "source": [
        "header_numeric"
      ]
    },
    {
      "cell_type": "code",
      "execution_count": 144,
      "metadata": {
        "id": "vX0expks_rhp"
      },
      "outputs": [],
      "source": [
        "\n",
        "\n",
        "header_numeric[columns_dollar] = np.array([column_name + '_USD' for column_name in header_numeric[columns_dollar]])"
      ]
    },
    {
      "cell_type": "code",
      "execution_count": 145,
      "metadata": {
        "scrolled": false,
        "colab": {
          "base_uri": "https://localhost:8080/"
        },
        "id": "-_lc_kqO_rhp",
        "outputId": "c1f17c61-c8c2-4266-efda-959e21d56905"
      },
      "outputs": [
        {
          "output_type": "execute_result",
          "data": {
            "text/plain": [
              "array(['id', 'loan_amnt_USD', 'funded_amnt_USD', 'int_rate', 'installment_USD', 'total_pymnt_USD',\n",
              "       'exchange_rate', 'loan_amnt_EUR', 'funded_amnt_EUR', 'installment_EUR', 'total_pymnt_EUR'],\n",
              "      dtype='<U19')"
            ]
          },
          "metadata": {},
          "execution_count": 145
        }
      ],
      "source": [
        "header_numeric"
      ]
    },
    {
      "cell_type": "code",
      "execution_count": 146,
      "metadata": {
        "id": "ysUKq77N_rhp"
      },
      "outputs": [],
      "source": [
        "columns_index_order = [0,1,7,2,8,3,4,9,5,10,6]"
      ]
    },
    {
      "cell_type": "code",
      "execution_count": 147,
      "metadata": {
        "id": "ylxk36ay_rhq"
      },
      "outputs": [],
      "source": [
        "header_numeric = header_numeric[columns_index_order]"
      ]
    },
    {
      "cell_type": "code",
      "execution_count": 148,
      "metadata": {
        "colab": {
          "base_uri": "https://localhost:8080/"
        },
        "id": "0WlKNSQF_rhq",
        "outputId": "e4b83bef-7ee5-4421-a8fc-248ccd9e152e"
      },
      "outputs": [
        {
          "output_type": "execute_result",
          "data": {
            "text/plain": [
              "array([[48010226.  ,    35000.  ,    35000.  , ...,    31933.3 ,     1081.04,     8624.69],\n",
              "       [57693261.  ,    30000.  ,    30000.  , ...,    27132.46,      848.86,     4232.39],\n",
              "       [59432726.  ,    15000.  ,    15000.  , ...,    13326.3 ,      439.64,     1750.04],\n",
              "       ...,\n",
              "       [50415990.  ,    10000.  ,    10000.  , ...,     8910.3 ,     1223.36,     1947.47],\n",
              "       [46154151.  ,    35000.  ,    10000.  , ...,     8997.4 ,      318.78,     2878.63],\n",
              "       [66055249.  ,    10000.  ,    10000.  , ...,     9145.8 ,      283.49,      276.11]])"
            ]
          },
          "metadata": {},
          "execution_count": 148
        }
      ],
      "source": [
        "loan_data_numeric"
      ]
    },
    {
      "cell_type": "code",
      "execution_count": 149,
      "metadata": {
        "id": "NG3qEqDs_rhq"
      },
      "outputs": [],
      "source": [
        "loan_data_numeric = loan_data_numeric[:,columns_index_order]"
      ]
    },
    {
      "cell_type": "markdown",
      "metadata": {
        "id": "y4fiZd9N_rhq"
      },
      "source": [
        "### Interest Rate"
      ]
    },
    {
      "cell_type": "code",
      "execution_count": 150,
      "metadata": {
        "colab": {
          "base_uri": "https://localhost:8080/"
        },
        "id": "yZ-4Vtn1_rhq",
        "outputId": "551facdd-b184-47ff-aeac-27e16fd60472"
      },
      "outputs": [
        {
          "output_type": "execute_result",
          "data": {
            "text/plain": [
              "array(['id', 'loan_amnt_USD', 'loan_amnt_EUR', 'funded_amnt_USD', 'funded_amnt_EUR', 'int_rate',\n",
              "       'installment_USD', 'installment_EUR', 'total_pymnt_USD', 'total_pymnt_EUR', 'exchange_rate'],\n",
              "      dtype='<U19')"
            ]
          },
          "metadata": {},
          "execution_count": 150
        }
      ],
      "source": [
        "header_numeric"
      ]
    },
    {
      "cell_type": "code",
      "execution_count": 151,
      "metadata": {
        "colab": {
          "base_uri": "https://localhost:8080/"
        },
        "id": "qzUrEKgb_rhq",
        "outputId": "f4d95201-8696-4a3a-c2d9-a633345a7292"
      },
      "outputs": [
        {
          "output_type": "execute_result",
          "data": {
            "text/plain": [
              "array([13.33, 28.99, 28.99, ..., 28.99, 16.55, 28.99])"
            ]
          },
          "metadata": {},
          "execution_count": 151
        }
      ],
      "source": [
        "loan_data_numeric[:,5]"
      ]
    },
    {
      "cell_type": "code",
      "execution_count": 152,
      "metadata": {
        "id": "NTfYXSnQ_rhq"
      },
      "outputs": [],
      "source": [
        "loan_data_numeric[:,5] = loan_data_numeric[:,5]/100"
      ]
    },
    {
      "cell_type": "code",
      "execution_count": 153,
      "metadata": {
        "colab": {
          "base_uri": "https://localhost:8080/"
        },
        "id": "8BTcwWM2_rhr",
        "outputId": "63ec4423-f619-49da-8ff4-f7148039c2ac"
      },
      "outputs": [
        {
          "output_type": "execute_result",
          "data": {
            "text/plain": [
              "array([0.13, 0.29, 0.29, ..., 0.29, 0.17, 0.29])"
            ]
          },
          "metadata": {},
          "execution_count": 153
        }
      ],
      "source": [
        "loan_data_numeric[:,5]"
      ]
    },
    {
      "cell_type": "markdown",
      "metadata": {
        "id": "9Ey_s2KC_rhr"
      },
      "source": [
        "### Checkpoint 2: Numeric"
      ]
    },
    {
      "cell_type": "code",
      "execution_count": 154,
      "metadata": {
        "id": "CsZZ1cQL_rhr"
      },
      "outputs": [],
      "source": [
        "checkpoint_numeric = checkpoint(\"Checkpoint-Numeric\", header_numeric, loan_data_numeric)"
      ]
    },
    {
      "cell_type": "code",
      "execution_count": 155,
      "metadata": {
        "colab": {
          "base_uri": "https://localhost:8080/"
        },
        "id": "4tRQ6_j1_rhr",
        "outputId": "d0c8c750-5d68-4e65-df74-0859ed3f25db"
      },
      "outputs": [
        {
          "output_type": "execute_result",
          "data": {
            "text/plain": [
              "(array(['id', 'loan_amnt_USD', 'loan_amnt_EUR', 'funded_amnt_USD', 'funded_amnt_EUR', 'int_rate',\n",
              "        'installment_USD', 'installment_EUR', 'total_pymnt_USD', 'total_pymnt_EUR', 'exchange_rate'],\n",
              "       dtype='<U19'),\n",
              " array([[48010226.  ,    35000.  ,    31933.3 , ...,     9452.96,     8624.69,        1.1 ],\n",
              "        [57693261.  ,    30000.  ,    27132.46, ...,     4679.7 ,     4232.39,        1.11],\n",
              "        [59432726.  ,    15000.  ,    13326.3 , ...,     1969.83,     1750.04,        1.13],\n",
              "        ...,\n",
              "        [50415990.  ,    10000.  ,     8910.3 , ...,     2185.64,     1947.47,        1.12],\n",
              "        [46154151.  ,    35000.  ,    31490.9 , ...,     3199.4 ,     2878.63,        1.11],\n",
              "        [66055249.  ,    10000.  ,     9145.8 , ...,      301.9 ,      276.11,        1.09]]))"
            ]
          },
          "metadata": {},
          "execution_count": 155
        }
      ],
      "source": [
        "checkpoint_numeric['header'], checkpoint_numeric['data']"
      ]
    },
    {
      "cell_type": "markdown",
      "metadata": {
        "id": "HnrDuEiv_rhr"
      },
      "source": [
        "## Creating the \"Complete\" Dataset"
      ]
    },
    {
      "cell_type": "code",
      "execution_count": 157,
      "metadata": {
        "colab": {
          "base_uri": "https://localhost:8080/"
        },
        "id": "qH3FUihS_rhr",
        "outputId": "555d4d15-0881-4667-dffc-bf618daaeea7"
      },
      "outputs": [
        {
          "output_type": "execute_result",
          "data": {
            "text/plain": [
              "(10000, 6)"
            ]
          },
          "metadata": {},
          "execution_count": 157
        }
      ],
      "source": [
        "checkpoint_strings['data'].shape"
      ]
    },
    {
      "cell_type": "code",
      "execution_count": 158,
      "metadata": {
        "colab": {
          "base_uri": "https://localhost:8080/"
        },
        "id": "deaG-J6Y_rhr",
        "outputId": "80d70a7d-6109-42a0-c60a-21e3f67b60e3"
      },
      "outputs": [
        {
          "output_type": "execute_result",
          "data": {
            "text/plain": [
              "(10000, 11)"
            ]
          },
          "metadata": {},
          "execution_count": 158
        }
      ],
      "source": [
        "checkpoint_numeric['data'].shape"
      ]
    },
    {
      "cell_type": "code",
      "execution_count": 159,
      "metadata": {
        "id": "nPHIboNg_rhr"
      },
      "outputs": [],
      "source": [
        "loan_data = np.hstack((checkpoint_numeric['data'], checkpoint_strings['data']))"
      ]
    },
    {
      "cell_type": "code",
      "execution_count": 160,
      "metadata": {
        "colab": {
          "base_uri": "https://localhost:8080/"
        },
        "id": "9del_duz_rhr",
        "outputId": "761f2afe-7265-4d19-cde4-7ab051d0e078"
      },
      "outputs": [
        {
          "output_type": "execute_result",
          "data": {
            "text/plain": [
              "array([[48010226.  ,    35000.  ,    31933.3 , ...,       13.  ,        1.  ,        1.  ],\n",
              "       [57693261.  ,    30000.  ,    27132.46, ...,        5.  ,        1.  ,        4.  ],\n",
              "       [59432726.  ,    15000.  ,    13326.3 , ...,       10.  ,        1.  ,        4.  ],\n",
              "       ...,\n",
              "       [50415990.  ,    10000.  ,     8910.3 , ...,        5.  ,        1.  ,        1.  ],\n",
              "       [46154151.  ,    35000.  ,    31490.9 , ...,       17.  ,        1.  ,        3.  ],\n",
              "       [66055249.  ,    10000.  ,     9145.8 , ...,        4.  ,        0.  ,        3.  ]])"
            ]
          },
          "metadata": {},
          "execution_count": 160
        }
      ],
      "source": [
        "loan_data"
      ]
    },
    {
      "cell_type": "code",
      "execution_count": 161,
      "metadata": {
        "scrolled": true,
        "colab": {
          "base_uri": "https://localhost:8080/"
        },
        "id": "lwrLn1MQ_rhs",
        "outputId": "a8fbd607-04b6-4f86-baa7-f8704a75cbfe"
      },
      "outputs": [
        {
          "output_type": "execute_result",
          "data": {
            "text/plain": [
              "0"
            ]
          },
          "metadata": {},
          "execution_count": 161
        }
      ],
      "source": [
        "np.isnan(loan_data).sum()"
      ]
    },
    {
      "cell_type": "code",
      "execution_count": 162,
      "metadata": {
        "id": "P7c23hx7_rhs"
      },
      "outputs": [],
      "source": [
        "header_full = np.concatenate((checkpoint_numeric['header'], checkpoint_strings['header']))"
      ]
    },
    {
      "cell_type": "markdown",
      "metadata": {
        "id": "lTAjNzFd_rhs"
      },
      "source": [
        "## Sorting the New Dataset"
      ]
    },
    {
      "cell_type": "code",
      "execution_count": 163,
      "metadata": {
        "id": "m6I7T3zT_rhs"
      },
      "outputs": [],
      "source": [
        "loan_data = loan_data[np.argsort(loan_data[:,0])]"
      ]
    },
    {
      "cell_type": "code",
      "execution_count": 164,
      "metadata": {
        "colab": {
          "base_uri": "https://localhost:8080/"
        },
        "id": "OTJoRuin_rhs",
        "outputId": "2400e516-dfe9-4541-8326-37d649f0f207"
      },
      "outputs": [
        {
          "output_type": "execute_result",
          "data": {
            "text/plain": [
              "array([[  373332.  ,     9950.  ,     9038.08, ...,       21.  ,        0.  ,        1.  ],\n",
              "       [  575239.  ,    12000.  ,    10900.2 , ...,       25.  ,        1.  ,        2.  ],\n",
              "       [  707689.  ,    10000.  ,     8924.3 , ...,       13.  ,        1.  ,        0.  ],\n",
              "       ...,\n",
              "       [68614880.  ,     5600.  ,     5121.65, ...,        8.  ,        1.  ,        1.  ],\n",
              "       [68615915.  ,     4000.  ,     3658.32, ...,       10.  ,        1.  ,        2.  ],\n",
              "       [68616519.  ,    21600.  ,    19754.93, ...,        3.  ,        0.  ,        2.  ]])"
            ]
          },
          "metadata": {},
          "execution_count": 164
        }
      ],
      "source": [
        "loan_data"
      ]
    },
    {
      "cell_type": "code",
      "execution_count": 165,
      "metadata": {
        "colab": {
          "base_uri": "https://localhost:8080/"
        },
        "id": "Q4vgQB9B_rhs",
        "outputId": "f612d02e-1c1d-41fa-adfb-66c9856ff14e"
      },
      "outputs": [
        {
          "output_type": "execute_result",
          "data": {
            "text/plain": [
              "array([   0,    1,    2, ..., 9997, 9998, 9999])"
            ]
          },
          "metadata": {},
          "execution_count": 165
        }
      ],
      "source": [
        "np.argsort(loan_data[:,0])"
      ]
    },
    {
      "cell_type": "markdown",
      "metadata": {
        "id": "TA5TVrHg_rhs"
      },
      "source": [
        "## Storing the New Dataset"
      ]
    },
    {
      "cell_type": "code",
      "execution_count": 166,
      "metadata": {
        "id": "N4p96Y9x_rhs"
      },
      "outputs": [],
      "source": [
        "loan_data = np.vstack((header_full, loan_data))"
      ]
    },
    {
      "cell_type": "code",
      "execution_count": 167,
      "metadata": {
        "id": "8-DibHIW_rhs"
      },
      "outputs": [],
      "source": [
        "np.savetxt(\"loan-data-preprocessed.csv\",\n",
        "           loan_data,\n",
        "           fmt = '%s',\n",
        "           delimiter = ',')"
      ]
    },
    {
      "cell_type": "code",
      "source": [],
      "metadata": {
        "id": "IbecVgD3vrPX"
      },
      "execution_count": null,
      "outputs": []
    }
  ],
  "metadata": {
    "kernelspec": {
      "display_name": "Python 3",
      "language": "python",
      "name": "python3"
    },
    "language_info": {
      "codemirror_mode": {
        "name": "ipython",
        "version": 3
      },
      "file_extension": ".py",
      "mimetype": "text/x-python",
      "name": "python",
      "nbconvert_exporter": "python",
      "pygments_lexer": "ipython3",
      "version": "3.7.6"
    },
    "colab": {
      "provenance": [],
      "include_colab_link": true
    }
  },
  "nbformat": 4,
  "nbformat_minor": 0
}